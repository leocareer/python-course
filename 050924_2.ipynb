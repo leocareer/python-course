{
 "cells": [
  {
   "cell_type": "markdown",
   "metadata": {},
   "source": [
    "#### EN UN FICHERO NUEVO DE PYTHON:\n",
    "#### CARGAREMOS EL FICHERO TITANIC.CSV Y RESOLVEREMOS LOS SIGUIENTES ENUNCIADOS\n",
    "#### 1 - VER LOS 6 PRIMEROS NOMBRES DE LOS PASAJEROS DE LA CLASE 1 (DESCENDENTE)\n",
    "#### 2 - VER LAS 2 ULTIMAS EDADES DE LOS PASAJEROS DE LA CLASE 3\n",
    "#### 3 - VER LOS 4 PRIMEROS NOMBRES DE LOS PASAJEROS QUE NO SEAN SE LA CLASE 2\n",
    "#### 4 - VER LOS 6 PRIMEROS PASAJEROS CUYO NOMBRE CONTIENE LA PALABRA MARY\n",
    "#### 5 - VER LOS 10 PRIMEROS DE NOMRE DE LOS PASAJEROS QUE SOBREVIVIERON\n",
    "#### (SURVEVID = 0, SURVIVED = 1)"
   ]
  },
  {
   "cell_type": "code",
   "execution_count": 3,
   "metadata": {},
   "outputs": [],
   "source": [
    "import pandas as pd\n",
    "titanic = pd.read_csv('Titanic.csv')"
   ]
  },
  {
   "cell_type": "code",
   "execution_count": 27,
   "metadata": {},
   "outputs": [
    {
     "data": {
      "text/plain": [
       "11                             Bonnell, Miss. Elizabeth\n",
       "1     Cumings, Mrs. John Bradley (Florence Briggs Th...\n",
       "27                       Fortune, Mr. Charles Alexander\n",
       "3          Futrelle, Mrs. Jacques Heath (Lily May Peel)\n",
       "6                               McCarthy, Mr. Timothy J\n",
       "23                         Sloper, Mr. William Thompson\n",
       "Name: Name, dtype: object"
      ]
     },
     "execution_count": 27,
     "metadata": {},
     "output_type": "execute_result"
    }
   ],
   "source": [
    "task1 = titanic['Pclass'] == 1\n",
    "titanic[task1].head(6).sort_values(by='Name')['Name']"
   ]
  },
  {
   "cell_type": "code",
   "execution_count": 32,
   "metadata": {},
   "outputs": [
    {
     "data": {
      "text/plain": [
       "11                             Bonnell, Miss. Elizabeth\n",
       "1     Cumings, Mrs. John Bradley (Florence Briggs Th...\n",
       "27                       Fortune, Mr. Charles Alexander\n",
       "3          Futrelle, Mrs. Jacques Heath (Lily May Peel)\n",
       "6                               McCarthy, Mr. Timothy J\n",
       "23                         Sloper, Mr. William Thompson\n",
       "Name: Name, dtype: object"
      ]
     },
     "execution_count": 32,
     "metadata": {},
     "output_type": "execute_result"
    }
   ],
   "source": [
    "titanic[task1]['Name'].head(6).sort_values(ascending=True)"
   ]
  },
  {
   "cell_type": "code",
   "execution_count": 33,
   "metadata": {},
   "outputs": [
    {
     "data": {
      "text/plain": [
       "11                             Bonnell, Miss. Elizabeth\n",
       "1     Cumings, Mrs. John Bradley (Florence Briggs Th...\n",
       "27                       Fortune, Mr. Charles Alexander\n",
       "3          Futrelle, Mrs. Jacques Heath (Lily May Peel)\n",
       "6                               McCarthy, Mr. Timothy J\n",
       "23                         Sloper, Mr. William Thompson\n",
       "Name: Name, dtype: object"
      ]
     },
     "execution_count": 33,
     "metadata": {},
     "output_type": "execute_result"
    }
   ],
   "source": [
    "titanic[task1].Name.head(6).sort_values(ascending=True)"
   ]
  },
  {
   "cell_type": "code",
   "execution_count": 34,
   "metadata": {},
   "outputs": [
    {
     "data": {
      "text/plain": [
       "730                      Allen, Miss. Elisabeth Walton\n",
       "305                     Allison, Master. Hudson Trevor\n",
       "297                       Allison, Miss. Helen Loraine\n",
       "498    Allison, Mrs. Hudson J C (Bessie Waldo Daniels)\n",
       "460                                Anderson, Mr. Harry\n",
       "275                  Andrews, Miss. Kornelia Theodosia\n",
       "Name: Name, dtype: object"
      ]
     },
     "execution_count": 34,
     "metadata": {},
     "output_type": "execute_result"
    }
   ],
   "source": [
    "titanic['Name'][task1].sort_values(ascending=True).head(6)"
   ]
  },
  {
   "cell_type": "code",
   "execution_count": 28,
   "metadata": {},
   "outputs": [
    {
     "name": "stdout",
     "output_type": "stream",
     "text": [
      "730                      Allen, Miss. Elisabeth Walton\n",
      "305                     Allison, Master. Hudson Trevor\n",
      "297                       Allison, Miss. Helen Loraine\n",
      "498    Allison, Mrs. Hudson J C (Bessie Waldo Daniels)\n",
      "460                                Anderson, Mr. Harry\n",
      "275                  Andrews, Miss. Kornelia Theodosia\n",
      "Name: Name, dtype: object\n"
     ]
    }
   ],
   "source": [
    "filtr1 = titanic['Pclass'] == 1\n",
    "filtered1 = titanic[task1]\n",
    "sorted1 = filtered1.sort_values(by='Name')\n",
    "print(sorted1.head(6)['Name'])"
   ]
  },
  {
   "cell_type": "code",
   "execution_count": 23,
   "metadata": {},
   "outputs": [
    {
     "data": {
      "text/html": [
       "<div>\n",
       "<style scoped>\n",
       "    .dataframe tbody tr th:only-of-type {\n",
       "        vertical-align: middle;\n",
       "    }\n",
       "\n",
       "    .dataframe tbody tr th {\n",
       "        vertical-align: top;\n",
       "    }\n",
       "\n",
       "    .dataframe thead th {\n",
       "        text-align: right;\n",
       "    }\n",
       "</style>\n",
       "<table border=\"1\" class=\"dataframe\">\n",
       "  <thead>\n",
       "    <tr style=\"text-align: right;\">\n",
       "      <th></th>\n",
       "      <th>PassengerId</th>\n",
       "      <th>Survived</th>\n",
       "      <th>Pclass</th>\n",
       "      <th>Name</th>\n",
       "      <th>Sex</th>\n",
       "      <th>Age</th>\n",
       "      <th>SibSp</th>\n",
       "      <th>Parch</th>\n",
       "      <th>Ticket</th>\n",
       "      <th>Fare</th>\n",
       "      <th>Cabin</th>\n",
       "      <th>Embarked</th>\n",
       "    </tr>\n",
       "  </thead>\n",
       "  <tbody>\n",
       "    <tr>\n",
       "      <th>888</th>\n",
       "      <td>889</td>\n",
       "      <td>0</td>\n",
       "      <td>3</td>\n",
       "      <td>Johnston, Miss. Catherine Helen \"Carrie\"</td>\n",
       "      <td>female</td>\n",
       "      <td>NaN</td>\n",
       "      <td>1</td>\n",
       "      <td>2</td>\n",
       "      <td>W./C. 6607</td>\n",
       "      <td>23,45</td>\n",
       "      <td>NaN</td>\n",
       "      <td>S</td>\n",
       "    </tr>\n",
       "    <tr>\n",
       "      <th>890</th>\n",
       "      <td>891</td>\n",
       "      <td>0</td>\n",
       "      <td>3</td>\n",
       "      <td>Dooley, Mr. Patrick</td>\n",
       "      <td>male</td>\n",
       "      <td>32</td>\n",
       "      <td>0</td>\n",
       "      <td>0</td>\n",
       "      <td>370376</td>\n",
       "      <td>7,75</td>\n",
       "      <td>NaN</td>\n",
       "      <td>Q</td>\n",
       "    </tr>\n",
       "  </tbody>\n",
       "</table>\n",
       "</div>"
      ],
      "text/plain": [
       "     PassengerId  Survived  Pclass                                      Name  \\\n",
       "888          889         0       3  Johnston, Miss. Catherine Helen \"Carrie\"   \n",
       "890          891         0       3                       Dooley, Mr. Patrick   \n",
       "\n",
       "        Sex  Age  SibSp  Parch      Ticket   Fare Cabin Embarked  \n",
       "888  female  NaN      1      2  W./C. 6607  23,45   NaN        S  \n",
       "890    male   32      0      0      370376   7,75   NaN        Q  "
      ]
     },
     "execution_count": 23,
     "metadata": {},
     "output_type": "execute_result"
    }
   ],
   "source": [
    "task2 = titanic['Pclass'] == 3\n",
    "titanic[task2].tail(2)"
   ]
  },
  {
   "cell_type": "code",
   "execution_count": 35,
   "metadata": {},
   "outputs": [
    {
     "data": {
      "text/plain": [
       "890     32\n",
       "888    NaN\n",
       "Name: Age, dtype: object"
      ]
     },
     "execution_count": 35,
     "metadata": {},
     "output_type": "execute_result"
    }
   ],
   "source": [
    "task2 = titanic['Pclass'] == 3\n",
    "titanic[task2].tail(2).sort_values(by='Age')['Age']"
   ]
  },
  {
   "cell_type": "code",
   "execution_count": 36,
   "metadata": {},
   "outputs": [
    {
     "data": {
      "text/plain": [
       "888    NaN\n",
       "890     32\n",
       "Name: Age, dtype: object"
      ]
     },
     "execution_count": 36,
     "metadata": {},
     "output_type": "execute_result"
    }
   ],
   "source": [
    "titanic[task2]['Age'].tail(2)"
   ]
  },
  {
   "cell_type": "code",
   "execution_count": 24,
   "metadata": {},
   "outputs": [
    {
     "data": {
      "text/plain": [
       "1    Cumings, Mrs. John Bradley (Florence Briggs Th...\n",
       "3         Futrelle, Mrs. Jacques Heath (Lily May Peel)\n",
       "2                               Heikkinen, Miss. Laina\n",
       "0                                Pepe, Mr. Owen Harris\n",
       "Name: Name, dtype: object"
      ]
     },
     "execution_count": 24,
     "metadata": {},
     "output_type": "execute_result"
    }
   ],
   "source": [
    "task3 = titanic['Pclass'] != 2\n",
    "titanic[task3].head(4).sort_values(by='Name')['Name']"
   ]
  },
  {
   "cell_type": "code",
   "execution_count": 37,
   "metadata": {},
   "outputs": [
    {
     "data": {
      "text/plain": [
       "0                                Pepe, Mr. Owen Harris\n",
       "1    Cumings, Mrs. John Bradley (Florence Briggs Th...\n",
       "2                               Heikkinen, Miss. Laina\n",
       "3         Futrelle, Mrs. Jacques Heath (Lily May Peel)\n",
       "Name: Name, dtype: object"
      ]
     },
     "execution_count": 37,
     "metadata": {},
     "output_type": "execute_result"
    }
   ],
   "source": [
    "titanic[task3].Name.head(4)"
   ]
  },
  {
   "cell_type": "code",
   "execution_count": 25,
   "metadata": {},
   "outputs": [
    {
     "data": {
      "text/plain": [
       "347    Davison, Mrs. Thomas Henry (Mary E Finck)\n",
       "32                      Glynn, Miss. Mary Agatha\n",
       "15              Hewlett, Mrs. (Mary D Kingcome) \n",
       "358                         McGovern, Miss. Mary\n",
       "322                    Slayter, Miss. Hilda Mary\n",
       "318                     Wick, Miss. Mary Natalie\n",
       "Name: Name, dtype: object"
      ]
     },
     "execution_count": 25,
     "metadata": {},
     "output_type": "execute_result"
    }
   ],
   "source": [
    "task4 = titanic['Name'].str.contains('Mary')\n",
    "titanic[task4].head(6).sort_values(by='Name')['Name']"
   ]
  },
  {
   "cell_type": "code",
   "execution_count": 38,
   "metadata": {},
   "outputs": [
    {
     "data": {
      "text/plain": [
       "15              Hewlett, Mrs. (Mary D Kingcome) \n",
       "32                      Glynn, Miss. Mary Agatha\n",
       "318                     Wick, Miss. Mary Natalie\n",
       "322                    Slayter, Miss. Hilda Mary\n",
       "347    Davison, Mrs. Thomas Henry (Mary E Finck)\n",
       "358                         McGovern, Miss. Mary\n",
       "Name: Name, dtype: object"
      ]
     },
     "execution_count": 38,
     "metadata": {},
     "output_type": "execute_result"
    }
   ],
   "source": [
    "titanic[task4]['Name'].head(6)"
   ]
  },
  {
   "cell_type": "code",
   "execution_count": 39,
   "metadata": {},
   "outputs": [
    {
     "data": {
      "text/plain": [
       "11                             Bonnell, Miss. Elizabeth\n",
       "1     Cumings, Mrs. John Bradley (Florence Briggs Th...\n",
       "3          Futrelle, Mrs. Jacques Heath (Lily May Peel)\n",
       "2                                Heikkinen, Miss. Laina\n",
       "15                     Hewlett, Mrs. (Mary D Kingcome) \n",
       "8     Johnson, Mrs. Oscar W (Elisabeth Vilhelmina Berg)\n",
       "19                              Masselmani, Mrs. Fatima\n",
       "9                   Nasser, Mrs. Nicholas (Adele Achem)\n",
       "10                      Sandstrom, Miss. Marguerite Rut\n",
       "17                         Williams, Mr. Charles Eugene\n",
       "Name: Name, dtype: object"
      ]
     },
     "execution_count": 39,
     "metadata": {},
     "output_type": "execute_result"
    }
   ],
   "source": [
    "task5 = titanic['Survived'] == 1\n",
    "titanic[task5].head(10).sort_values(by='Name')['Name']"
   ]
  },
  {
   "cell_type": "code",
   "execution_count": 40,
   "metadata": {},
   "outputs": [
    {
     "data": {
      "text/plain": [
       "1     Cumings, Mrs. John Bradley (Florence Briggs Th...\n",
       "2                                Heikkinen, Miss. Laina\n",
       "3          Futrelle, Mrs. Jacques Heath (Lily May Peel)\n",
       "8     Johnson, Mrs. Oscar W (Elisabeth Vilhelmina Berg)\n",
       "9                   Nasser, Mrs. Nicholas (Adele Achem)\n",
       "10                      Sandstrom, Miss. Marguerite Rut\n",
       "11                             Bonnell, Miss. Elizabeth\n",
       "15                     Hewlett, Mrs. (Mary D Kingcome) \n",
       "17                         Williams, Mr. Charles Eugene\n",
       "19                              Masselmani, Mrs. Fatima\n",
       "Name: Name, dtype: object"
      ]
     },
     "execution_count": 40,
     "metadata": {},
     "output_type": "execute_result"
    }
   ],
   "source": [
    "titanic[task5]['Name'].head(10)"
   ]
  },
  {
   "cell_type": "code",
   "execution_count": null,
   "metadata": {},
   "outputs": [],
   "source": []
  }
 ],
 "metadata": {
  "kernelspec": {
   "display_name": "Python 3.12.4 64-bit",
   "language": "python",
   "name": "python3"
  },
  "language_info": {
   "codemirror_mode": {
    "name": "ipython",
    "version": 3
   },
   "file_extension": ".py",
   "mimetype": "text/x-python",
   "name": "python",
   "nbconvert_exporter": "python",
   "pygments_lexer": "ipython3",
   "version": "3.12.4"
  },
  "orig_nbformat": 4,
  "vscode": {
   "interpreter": {
    "hash": "aee8b7b246df8f9039afb4144a1f6fd8d2ca17a180786b69acc140d282b71a49"
   }
  }
 },
 "nbformat": 4,
 "nbformat_minor": 2
}
