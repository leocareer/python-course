{
 "cells": [
  {
   "cell_type": "markdown",
   "metadata": {},
   "source": [
    "#### La estructura de decision IF, analiza una condition y si se cumple ejecuta una parte vardadera, si no se cumple se ejecuta una parte falsa analizar una condicion significa comprar 2 valores mediante un operador de comparacion"
   ]
  },
  {
   "cell_type": "code",
   "execution_count": 5,
   "metadata": {},
   "outputs": [
    {
     "name": "stdout",
     "output_type": "stream",
     "text": [
      "Falso\n"
     ]
    }
   ],
   "source": [
    "alfa = 'Barcelona'\n",
    "if alfa == 'barcelona':\n",
    "  # Parte verdadera\n",
    "  print('Verdadero')\n",
    "else:\n",
    "  # Parte falsa\n",
    "  print('Falso')"
   ]
  },
  {
   "cell_type": "markdown",
   "metadata": {},
   "source": [
    "#### PRACTICA 1: CON LA LISTA DE MESES Y MEDIANTE UN BUCLE FOR IMPRIMIR TOROS LOS MESES, MENOS JUNIO\n",
    "\n",
    "#### PRACTICA 2: CON UNA LISTA DE NUMEROS (15, 33, 48, 62, 25, 57, 84) Y MEDIANTE UN BUCLE FOR IMPRIMIR SOLAMENTE LOS NUMEROS MAYORES DE 40\n",
    "\n",
    "#### PRACTICA 3: CON LA LISTA DE MESES Y MEDIANTE UN BUCLE FOR IMPRIMIR TODOS LOS MESES, CUYO NUMERO DE CARACTERES SE SU NOBRE SEA IGUAL 5"
   ]
  },
  {
   "cell_type": "code",
   "execution_count": 8,
   "metadata": {},
   "outputs": [
    {
     "name": "stdout",
     "output_type": "stream",
     "text": [
      "enero\n",
      "febrero\n",
      "marzo\n",
      "abril\n",
      "mayo\n",
      "julio\n",
      "agosto\n",
      "septiembre\n",
      "octubre\n",
      "noviembre\n",
      "diciembre\n"
     ]
    }
   ],
   "source": [
    "meses = ['enero','febrero','marzo','abril','mayo','junio','julio','agosto','septiembre','octubre','noviembre','diciembre']\n",
    "\n",
    "for mes in meses:\n",
    "  if mes != 'junio':\n",
    "    print(mes)"
   ]
  },
  {
   "cell_type": "code",
   "execution_count": 7,
   "metadata": {},
   "outputs": [
    {
     "name": "stdout",
     "output_type": "stream",
     "text": [
      "48\n",
      "62\n",
      "57\n",
      "84\n"
     ]
    }
   ],
   "source": [
    "numeros = [15, 33, 48, 62, 25, 57, 84]\n",
    "\n",
    "for i in numeros:\n",
    "  if i > 40:\n",
    "    print(i)"
   ]
  },
  {
   "cell_type": "code",
   "execution_count": 9,
   "metadata": {},
   "outputs": [
    {
     "name": "stdout",
     "output_type": "stream",
     "text": [
      "enero\n",
      "marzo\n",
      "abril\n",
      "junio\n",
      "julio\n"
     ]
    }
   ],
   "source": [
    "meses = ['enero','febrero','marzo','abril','mayo','junio','julio','agosto','septiembre','octubre','noviembre','diciembre']\n",
    "\n",
    "for mes in meses:\n",
    "  if len(mes) == 5:\n",
    "    print(mes)"
   ]
  },
  {
   "cell_type": "code",
   "execution_count": 10,
   "metadata": {},
   "outputs": [
    {
     "ename": "IndentationError",
     "evalue": "expected an indented block after 'if' statement on line 2 (1788466035.py, line 4)",
     "output_type": "error",
     "traceback": [
      "\u001b[0;36m  Cell \u001b[0;32mIn[10], line 4\u001b[0;36m\u001b[0m\n\u001b[0;31m    elif provincia == 'Gerona':\u001b[0m\n\u001b[0m    ^\u001b[0m\n\u001b[0;31mIndentationError\u001b[0m\u001b[0;31m:\u001b[0m expected an indented block after 'if' statement on line 2\n"
     ]
    }
   ],
   "source": [
    "provincia = 'Barcelona'\n",
    "if provincia == 'Barcelona':\n",
    "\n",
    "elif provincia == 'Gerona':\n",
    "\n",
    "elif provincia == 'Lerida':\n",
    "\n",
    "elif provincia == 'Tarragona':\n",
    "  \n",
    "else:"
   ]
  },
  {
   "cell_type": "code",
   "execution_count": 12,
   "metadata": {},
   "outputs": [
    {
     "name": "stdout",
     "output_type": "stream",
     "text": [
      "Comprendido entre 0-25\n"
     ]
    }
   ],
   "source": [
    "x = 10\n",
    "if x <= 25:\n",
    "  print('Comprendido entre 0-25')\n",
    "elif x <= 50:\n",
    "  print('Comprendido entre 25-50')\n",
    "elif x <= 75:\n",
    "  print('Comprendido entre 50-75')\n",
    "elif x <= 100:\n",
    "  print('Comprendido entre 75-100')"
   ]
  },
  {
   "cell_type": "markdown",
   "metadata": {},
   "source": [
    "#### PRACTICA 4: MEDIANTE UNA LISTA NUMERICA [13, 27, 34, 87, 123, 46, 61 88, 32, -6, 150, 28] Y USANDO UN BUCLE FOR COMBIANDO CON UN IF ANIDADO, CLASIFICAR LOS NUMEROS POR MULRIPLOS DE 30 HASTA EL 120, SI NO ESTA EN ESE INTERVALO MOSTRAR MENSAJE 'EL NUMERO 13 ESTA COMPRENDIDO ENTRE 0-30'"
   ]
  },
  {
   "cell_type": "code",
   "execution_count": 14,
   "metadata": {},
   "outputs": [
    {
     "name": "stdout",
     "output_type": "stream",
     "text": [
      "El numero 13 esta comprendido entre 0-30\n",
      "El numero 27 esta comprendido entre 0-30\n",
      "El numero 34 esta comprendido entre 30-60\n",
      "El numero 87 esta comprendido entre 60-90\n",
      "Numero 123 esta fuera de intervalo\n",
      "El numero 46 esta comprendido entre 30-60\n",
      "El numero 61 esta comprendido entre 60-90\n",
      "El numero 88 esta comprendido entre 60-90\n",
      "El numero 32 esta comprendido entre 30-60\n",
      "Numero -6 esta fuera de intervalo\n",
      "Numero 150 esta fuera de intervalo\n",
      "El numero 28 esta comprendido entre 0-30\n"
     ]
    }
   ],
   "source": [
    "numeros = [13, 27, 34, 87, 123, 46, 61, 88, 32, -6, 150, 28]\n",
    "for i in numeros:\n",
    "  if i < 0:\n",
    "    print('Numero', i, 'esta fuera de intervalo')\n",
    "  elif i <= 30:\n",
    "    print('El numero', i, 'esta comprendido entre 0-30')\n",
    "  elif i <= 60:\n",
    "    print('El numero', i, 'esta comprendido entre 30-60')\n",
    "  elif i <= 90:\n",
    "    print('El numero', i, 'esta comprendido entre 60-90')\n",
    "  elif i <= 120:\n",
    "    print('El numero', i, 'esta comprendido entre 90-120')\n",
    "  else:\n",
    "    print('Numero', i, 'esta fuera de intervalo')"
   ]
  },
  {
   "cell_type": "code",
   "execution_count": 15,
   "metadata": {},
   "outputs": [
    {
     "name": "stdout",
     "output_type": "stream",
     "text": [
      "x vale 10\n"
     ]
    }
   ],
   "source": [
    "# El switch...case Python, solo disponible a partir de la version 3.10 se implenta con match + case\n",
    "x = 10\n",
    "match x:\n",
    "  case 1:\n",
    "    print('x vale 1')\n",
    "  case 2:\n",
    "    print('x vale 2')\n",
    "  case 10:\n",
    "    print('x vale 10')"
   ]
  },
  {
   "cell_type": "code",
   "execution_count": 16,
   "metadata": {},
   "outputs": [
    {
     "name": "stdout",
     "output_type": "stream",
     "text": [
      "x vale 2\n"
     ]
    }
   ],
   "source": [
    "x = 'Gerona'\n",
    "match x:\n",
    "  case 'Barcelona':\n",
    "    print('x vale 1')\n",
    "  case 'Gerona':\n",
    "    print('x vale 2')\n",
    "  case 'Lerida':\n",
    "    print('x vale 10')"
   ]
  },
  {
   "cell_type": "code",
   "execution_count": 18,
   "metadata": {},
   "outputs": [
    {
     "name": "stdout",
     "output_type": "stream",
     "text": [
      "D\n",
      "o\n",
      "m\n",
      "i\n",
      "g\n",
      "o\n"
     ]
    }
   ],
   "source": [
    "dia = 'Domingo'\n",
    "for letra in dia:\n",
    "  if letra == 'n':\n",
    "    continue\n",
    "  else:\n",
    "    print(letra)"
   ]
  },
  {
   "cell_type": "code",
   "execution_count": 19,
   "metadata": {},
   "outputs": [
    {
     "name": "stdout",
     "output_type": "stream",
     "text": [
      "d\n",
      "o\n",
      "m\n",
      "i\n",
      "g\n",
      "o\n"
     ]
    }
   ],
   "source": [
    "dia = 'DOMINGO'\n",
    "for letra in dia:\n",
    "  if letra == 'N':\n",
    "    continue\n",
    "  else:\n",
    "    print(letra.lower())"
   ]
  },
  {
   "cell_type": "markdown",
   "metadata": {},
   "source": [
    "#### PRACTICA 5: IMPRIMIR LAS LETRAS EN MAYUSLULAS DE LA PALABRA supercalifragiligticoespialidoso, MENOS LAS LETRAS a"
   ]
  },
  {
   "cell_type": "markdown",
   "metadata": {},
   "source": [
    "#### PRACTICA 6: APROVECHANDO LA LISTA NUMERICO DE LA PRACTICA 4, IMPRIMIR LOS VALORES DE MANERA INDICIDUAL HASTA QUE LA SUMA DE ESTOS VALORES SEA MAYOR 100"
   ]
  },
  {
   "cell_type": "markdown",
   "metadata": {},
   "source": [
    "#### PRACTICA 7: IMPRIMIR LA LISTA DE LAS SIGUIENTES SIUDADES BARCELONA, MURCIA, VALENCIA, TOLEDO, BILBAO, SALAMANCA, TERUEL, MADRID, TARRAGONA SIEMPRE Y CUANDO EL NUMERO DE CARACTERES DE SU NOMBRE SEA DIFERENTE DE 6"
   ]
  },
  {
   "cell_type": "markdown",
   "metadata": {},
   "source": []
  },
  {
   "cell_type": "code",
   "execution_count": null,
   "metadata": {},
   "outputs": [],
   "source": []
  }
 ],
 "metadata": {
  "kernelspec": {
   "display_name": "Python 3 (ipykernel)",
   "language": "python",
   "name": "python3"
  },
  "language_info": {
   "codemirror_mode": {
    "name": "ipython",
    "version": 3
   },
   "file_extension": ".py",
   "mimetype": "text/x-python",
   "name": "python",
   "nbconvert_exporter": "python",
   "pygments_lexer": "ipython3",
   "version": "3.12.4"
  },
  "vscode": {
   "interpreter": {
    "hash": "aee8b7b246df8f9039afb4144a1f6fd8d2ca17a180786b69acc140d282b71a49"
   }
  }
 },
 "nbformat": 4,
 "nbformat_minor": 4
}
