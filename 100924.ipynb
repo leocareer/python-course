{
 "cells": [
  {
   "cell_type": "markdown",
   "metadata": {},
   "source": [
    "PRACTICA 2: APROVECHANDO EL DATAFRAME TRIMESTRE, VAMOS A DESCARGAR DE GITHUB EL FICHERO VentasGroucery_Meses.xlsx, CALCULAR EL AMOUNT EN NOV-DEC ANTES DE ANEXAR EL DATAFRAME TRIMESTRE CON LOS MESES DE NOVIEMBRE + DICEMBRE (LLAMAREMOS TRIMESTRE2), CAMBIAR EL ORDEN DE LAS COLUMNAS, PARA VER LA ULTIMA LA PRIMERA. MEDIANTE UN BUCLE FOR RECORRER TODOS LOS REGISTROS DE TRIMESTRE2 Y MODIFICAR EL CAMPO DISCOUNT, CALCULAREMOS UN 2, 75% SOBRE AMOUNT, SI EL AMOUNT ES >250 Y NO TENGA DESCUENTO POR SER DE FRANCE O GERMANY. VER LOS PRIMEROS 20 REGISTROS DEL DATAFRAME TRIMESTRE2"
   ]
  },
  {
   "cell_type": "code",
   "execution_count": 1,
   "metadata": {},
   "outputs": [],
   "source": [
    "import pandas as pd"
   ]
  },
  {
   "cell_type": "code",
   "execution_count": 2,
   "metadata": {},
   "outputs": [
    {
     "name": "stdout",
     "output_type": "stream",
     "text": [
      "<class 'pandas.core.frame.DataFrame'>\n",
      "RangeIndex: 185 entries, 0 to 184\n",
      "Data columns (total 9 columns):\n",
      " #   Column        Non-Null Count  Dtype         \n",
      "---  ------        --------------  -----         \n",
      " 0   Order ID      185 non-null    int64         \n",
      " 1   Product       185 non-null    object        \n",
      " 2   Category      185 non-null    object        \n",
      " 3   Unit Price    185 non-null    float64       \n",
      " 4   Quantity      185 non-null    int64         \n",
      " 5   Customer      185 non-null    object        \n",
      " 6   Ship City     185 non-null    object        \n",
      " 7   Ship Country  185 non-null    object        \n",
      " 8   Order Date    185 non-null    datetime64[ns]\n",
      "dtypes: datetime64[ns](1), float64(1), int64(2), object(5)\n",
      "memory usage: 13.1+ KB\n",
      "None\n"
     ]
    }
   ],
   "source": [
    "file1 = 'VentasGroucery_Meses.xlsx'\n",
    "ago14 = pd.read_excel(file1, sheet_name='Ventas Agosto 2014')\n",
    "sep14 = pd.read_excel(file1, sheet_name='Ventas Septiembre 2014')\n",
    "oct14 = pd.read_excel(file1, sheet_name='Ventas Octubre 2014')\n",
    "trimester1 = pd.concat([ago14, sep14, oct14], ignore_index=True)\n",
    "print(trimester1.info())"
   ]
  },
  {
   "cell_type": "code",
   "execution_count": 3,
   "metadata": {},
   "outputs": [
    {
     "name": "stdout",
     "output_type": "stream",
     "text": [
      "<class 'pandas.core.frame.DataFrame'>\n",
      "RangeIndex: 138 entries, 0 to 137\n",
      "Data columns (total 9 columns):\n",
      " #   Column         Non-Null Count  Dtype         \n",
      "---  ------         --------------  -----         \n",
      " 0   IdPedido       138 non-null    int64         \n",
      " 1   Producto       138 non-null    object        \n",
      " 2   Categoría      138 non-null    object        \n",
      " 3   Precio Unidad  138 non-null    float64       \n",
      " 4   Cantidad       138 non-null    int64         \n",
      " 5   Cliente        138 non-null    object        \n",
      " 6   Ciudad         138 non-null    object        \n",
      " 7   País           138 non-null    object        \n",
      " 8   Fecha pedido   138 non-null    datetime64[ns]\n",
      "dtypes: datetime64[ns](1), float64(1), int64(2), object(5)\n",
      "memory usage: 9.8+ KB\n",
      "None\n"
     ]
    }
   ],
   "source": [
    "file2 = 'VentasGroucery Nov-Dic.xlsx'\n",
    "nov14 = pd.read_excel(file2, sheet_name='Ventas Noviembre 2014')\n",
    "dic14 = pd.read_excel(file2, sheet_name='Ventas Diciembre 2014')\n",
    "trimester2 = pd.concat([nov14, dic14], ignore_index=True)\n",
    "print(trimester2.info())"
   ]
  },
  {
   "cell_type": "code",
   "execution_count": 4,
   "metadata": {},
   "outputs": [
    {
     "name": "stdout",
     "output_type": "stream",
     "text": [
      "     Order ID                          Product     Category  Unit Price  \\\n",
      "93      10280               Guaraná Fantástica    Beverages         3.6   \n",
      "124     10290  Original Frankfurter grüne Soße   Condiments        10.4   \n",
      "101     10283                     Genen Shouyu   Condiments        12.4   \n",
      "22      10278                       Röd Kaviar      Seafood        12.0   \n",
      "114     10287                          Pavlova  Confections        13.9   \n",
      "\n",
      "     Quantity            Customer       Ship City Ship Country Order Date  \n",
      "93         12  Berglunds snabbköp           Luleå       Sweden 2014-12-14  \n",
      "124        10    Comércio Mineiro       São Paulo       Brazil 2014-12-27  \n",
      "101        20   LILA-Supermercado    Barquisimeto    Venezuela 2014-12-16  \n",
      "22         25  Berglunds snabbköp           Luleå       Sweden 2014-11-12  \n",
      "114        40  Ricardo Adocicados  Rio de Janeiro       Brazil 2014-12-22  \n"
     ]
    }
   ],
   "source": [
    "# or bimensual.columns = trimestre.columns\n",
    "trimester2 = trimester2.rename(columns={'IdPedido': 'Order ID', \n",
    "                                        'Producto': 'Product', \n",
    "                                        'Categoría': 'Category', \n",
    "                                        'Precio Unidad': 'Unit Price',\n",
    "                                        'Cantidad': 'Quantity',\n",
    "                                        'Cliente': 'Customer',\n",
    "                                        'Ciudad': 'Ship City',\n",
    "                                        'País': 'Ship Country',\n",
    "                                        'Fecha pedido': 'Order Date'})\n",
    "print(trimester2.sample(5))"
   ]
  },
  {
   "cell_type": "code",
   "execution_count": 5,
   "metadata": {},
   "outputs": [
    {
     "name": "stdout",
     "output_type": "stream",
     "text": [
      "<class 'pandas.core.frame.DataFrame'>\n",
      "RangeIndex: 323 entries, 0 to 322\n",
      "Data columns (total 9 columns):\n",
      " #   Column        Non-Null Count  Dtype         \n",
      "---  ------        --------------  -----         \n",
      " 0   Order ID      323 non-null    int64         \n",
      " 1   Product       323 non-null    object        \n",
      " 2   Category      323 non-null    object        \n",
      " 3   Unit Price    323 non-null    float64       \n",
      " 4   Quantity      323 non-null    int64         \n",
      " 5   Customer      323 non-null    object        \n",
      " 6   Ship City     323 non-null    object        \n",
      " 7   Ship Country  323 non-null    object        \n",
      " 8   Order Date    323 non-null    datetime64[ns]\n",
      "dtypes: datetime64[ns](1), float64(1), int64(2), object(5)\n",
      "memory usage: 22.8+ KB\n",
      "None\n"
     ]
    }
   ],
   "source": [
    "year = pd.concat([trimester1,trimester2], ignore_index=True)\n",
    "print(year.info())"
   ]
  },
  {
   "cell_type": "code",
   "execution_count": 6,
   "metadata": {},
   "outputs": [
    {
     "name": "stdout",
     "output_type": "stream",
     "text": [
      "     Order ID                 Product        Category  Unit Price  Quantity  \\\n",
      "131     10296        Gudbrandsdalsost  Dairy Products        28.8        15   \n",
      "142     10301  Gnocchi di nonna Alice  Grains/Cereals        30.4        20   \n",
      "146     10302       Rössle Sauerkraut         Produce        36.4        28   \n",
      "88      10281          Steeleye Stout       Beverages        14.4         4   \n",
      "245     10293        Carnarvon Tigers         Seafood        50.0        12   \n",
      "\n",
      "                Customer     Ship City Ship Country Order Date  Amount  \n",
      "131    LILA-Supermercado  Barquisimeto    Venezuela 2014-10-04   432.0  \n",
      "142    Die Wandernde Kuh     Stuttgart      Germany 2014-10-10   608.0  \n",
      "146     Suprêmes délices     Charleroi      Belgium 2014-10-11  1019.2  \n",
      "88      Romero y tomillo        Madrid        Spain 2014-09-14    57.6  \n",
      "245  Tortuga Restaurante   México D.F.       Mexico 2014-11-29   600.0  \n"
     ]
    }
   ],
   "source": [
    "year['Amount'] = year['Unit Price']*year['Quantity']\n",
    "print(year.sample(5))"
   ]
  },
  {
   "cell_type": "code",
   "execution_count": 7,
   "metadata": {},
   "outputs": [
    {
     "name": "stdout",
     "output_type": "stream",
     "text": [
      "     Order ID              Product      Category  Unit Price  Quantity  \\\n",
      "186     10270          Inlagd Sill       Seafood        15.2        30   \n",
      "49      10265         Alice Mutton  Meat/Poultry        31.2        30   \n",
      "145     10302         Alice Mutton  Meat/Poultry        31.2        40   \n",
      "302     10288  Scottish Longbreads   Confections        10.0         3   \n",
      "91      10283         Genen Shouyu    Condiments        12.4        20   \n",
      "\n",
      "                 Customer      Ship City Ship Country Order Date  Amount  \\\n",
      "186        Wartian Herkku           Oulu      Finland 2014-11-01   456.0   \n",
      "49   Blondel père et fils     Strasbourg       France 2014-08-25   936.0   \n",
      "145      Suprêmes délices      Charleroi      Belgium 2014-10-11  1248.0   \n",
      "302    Reggiani Caseifici  Reggio Emilia        Italy 2014-12-23    30.0   \n",
      "91      LILA-Supermercado   Barquisimeto    Venezuela 2014-09-16   248.0   \n",
      "\n",
      "     Discount  \n",
      "186     0.000  \n",
      "49     31.356  \n",
      "145     0.000  \n",
      "302     0.000  \n",
      "91      0.000  \n"
     ]
    }
   ],
   "source": [
    "def descuento(pais):\n",
    "  if (pais == 'France')|(pais == 'Germany'):\n",
    "    return 0.0335\n",
    "  else:\n",
    "    return 0\n",
    "\n",
    "year['Discount'] = year['Amount']*year['Ship Country'].apply(descuento)\n",
    "print(year.sample(5))"
   ]
  },
  {
   "cell_type": "code",
   "execution_count": 8,
   "metadata": {},
   "outputs": [
    {
     "name": "stdout",
     "output_type": "stream",
     "text": [
      "   Discount  Amount Order Date Ship Country       Ship City  \\\n",
      "0    0.3283     9.8 2014-08-04       France           Reims   \n",
      "1    5.8290   174.0 2014-08-04       France           Reims   \n",
      "2    5.6280   168.0 2014-08-04       France           Reims   \n",
      "3    5.6079   167.4 2014-08-05      Germany         Münster   \n",
      "4   56.8160  1696.0 2014-08-05      Germany         Münster   \n",
      "5    0.0000   252.0 2014-08-08       Brazil  Rio de Janeiro   \n",
      "6    0.0000    77.0 2014-08-08       Brazil  Rio de Janeiro   \n",
      "7    0.0000  1484.0 2014-08-08       Brazil  Rio de Janeiro   \n",
      "8   11.2560   336.0 2014-08-08       France            Lyon   \n",
      "9    3.3768   100.8 2014-08-08       France            Lyon   \n",
      "\n",
      "                    Customer  Quantity  Unit Price        Category  \\\n",
      "0  Vins et alcools Chevalier         1         9.8  Grains/Cereals   \n",
      "1  Vins et alcools Chevalier         5        34.8  Dairy Products   \n",
      "2  Vins et alcools Chevalier        12        14.0  Dairy Products   \n",
      "3         Toms Spezialitäten         9        18.6         Produce   \n",
      "4         Toms Spezialitäten        40        42.4         Produce   \n",
      "5              Hanari Carnes        15        16.8      Condiments   \n",
      "6              Hanari Carnes        10         7.7         Seafood   \n",
      "7              Hanari Carnes        35        42.4         Produce   \n",
      "8       Victuailles en stock        20        16.8      Condiments   \n",
      "9       Victuailles en stock         6        16.8  Grains/Cereals   \n",
      "\n",
      "                            Product  Order ID  \n",
      "0     Singaporean Hokkien Fried Mee     10248  \n",
      "1            Mozzarella di Giovanni     10248  \n",
      "2                    Queso Cabrales     10248  \n",
      "3                              Tofu     10249  \n",
      "4             Manjimup Dried Apples     10249  \n",
      "5  Louisiana Fiery Hot Pepper Sauce     10250  \n",
      "6   Jack's New England Clam Chowder     10250  \n",
      "7             Manjimup Dried Apples     10250  \n",
      "8  Louisiana Fiery Hot Pepper Sauce     10251  \n",
      "9               Gustaf's Knäckebröd     10251  \n"
     ]
    }
   ],
   "source": [
    "year = year.iloc[:,[10,9,8,7,6,5,4,3,2,1,0]]\n",
    "print(year.head(10))"
   ]
  },
  {
   "cell_type": "code",
   "execution_count": 9,
   "metadata": {},
   "outputs": [
    {
     "name": "stdout",
     "output_type": "stream",
     "text": [
      "    Discount  Amount Order Date Ship Country       Ship City  \\\n",
      "0     0.3283     9.8 2014-08-04       France           Reims   \n",
      "1     5.8290   174.0 2014-08-04       France           Reims   \n",
      "2     5.6280   168.0 2014-08-04       France           Reims   \n",
      "3     5.6079   167.4 2014-08-05      Germany         Münster   \n",
      "4    56.8160  1696.0 2014-08-05      Germany         Münster   \n",
      "5     6.9300   252.0 2014-08-08       Brazil  Rio de Janeiro   \n",
      "6     0.0000    77.0 2014-08-08       Brazil  Rio de Janeiro   \n",
      "7    40.8100  1484.0 2014-08-08       Brazil  Rio de Janeiro   \n",
      "8    11.2560   336.0 2014-08-08       France            Lyon   \n",
      "9     3.3768   100.8 2014-08-08       France            Lyon   \n",
      "10    7.8390   234.0 2014-08-08       France            Lyon   \n",
      "11   71.2800  2592.0 2014-08-09      Belgium       Charleroi   \n",
      "12    0.0000    50.0 2014-08-09      Belgium       Charleroi   \n",
      "13   29.9200  1088.0 2014-08-09      Belgium       Charleroi   \n",
      "14   17.6000   640.0 2014-08-10       Brazil  Rio de Janeiro   \n",
      "15   16.6320   604.8 2014-08-10       Brazil  Rio de Janeiro   \n",
      "16    0.0000   200.0 2014-08-10       Brazil  Rio de Janeiro   \n",
      "17   11.0880   403.2 2014-08-11  Switzerland            Bern   \n",
      "18    0.0000   168.0 2014-08-11  Switzerland            Bern   \n",
      "19    0.0000    54.0 2014-08-11  Switzerland            Bern   \n",
      "\n",
      "                     Customer  Quantity  Unit Price        Category  \\\n",
      "0   Vins et alcools Chevalier         1         9.8  Grains/Cereals   \n",
      "1   Vins et alcools Chevalier         5        34.8  Dairy Products   \n",
      "2   Vins et alcools Chevalier        12        14.0  Dairy Products   \n",
      "3          Toms Spezialitäten         9        18.6         Produce   \n",
      "4          Toms Spezialitäten        40        42.4         Produce   \n",
      "5               Hanari Carnes        15        16.8      Condiments   \n",
      "6               Hanari Carnes        10         7.7         Seafood   \n",
      "7               Hanari Carnes        35        42.4         Produce   \n",
      "8        Victuailles en stock        20        16.8      Condiments   \n",
      "9        Victuailles en stock         6        16.8  Grains/Cereals   \n",
      "10       Victuailles en stock        15        15.6  Grains/Cereals   \n",
      "11           Suprêmes délices        40        64.8     Confections   \n",
      "12           Suprêmes délices        25         2.0  Dairy Products   \n",
      "13           Suprêmes délices        40        27.2  Dairy Products   \n",
      "14              Hanari Carnes        40        16.0     Confections   \n",
      "15              Hanari Carnes        42        14.4       Beverages   \n",
      "16              Hanari Carnes        20        10.0  Dairy Products   \n",
      "17          Chop-suey Chinese        21        19.2    Meat/Poultry   \n",
      "18          Chop-suey Chinese        21         8.0         Produce   \n",
      "19          Chop-suey Chinese        15         3.6       Beverages   \n",
      "\n",
      "                             Product  Order ID  \n",
      "0      Singaporean Hokkien Fried Mee     10248  \n",
      "1             Mozzarella di Giovanni     10248  \n",
      "2                     Queso Cabrales     10248  \n",
      "3                               Tofu     10249  \n",
      "4              Manjimup Dried Apples     10249  \n",
      "5   Louisiana Fiery Hot Pepper Sauce     10250  \n",
      "6    Jack's New England Clam Chowder     10250  \n",
      "7              Manjimup Dried Apples     10250  \n",
      "8   Louisiana Fiery Hot Pepper Sauce     10251  \n",
      "9                Gustaf's Knäckebröd     10251  \n",
      "10                    Ravioli Angelo     10251  \n",
      "11            Sir Rodney's Marmalade     10252  \n",
      "12                           Geitost     10252  \n",
      "13                 Camembert Pierrot     10252  \n",
      "14                          Maxilaku     10253  \n",
      "15                  Chartreuse verte     10253  \n",
      "16                 Gorgonzola Telino     10253  \n",
      "17                      Pâté chinois     10254  \n",
      "18                     Longlife Tofu     10254  \n",
      "19                Guaraná Fantástica     10254  \n"
     ]
    }
   ],
   "source": [
    "filas = len(year)\n",
    "for i in range(0,filas):\n",
    "  if (year.iloc[i,0] == 0)&(year.iloc[i,1] > 250):\n",
    "    year.iloc[i,0] = year.iloc[i,1]*0.0275\n",
    "\n",
    "print(year.head(20))"
   ]
  },
  {
   "cell_type": "code",
   "execution_count": 10,
   "metadata": {},
   "outputs": [
    {
     "name": "stdout",
     "output_type": "stream",
     "text": [
      "<class 'pandas.core.frame.DataFrame'>\n",
      "RangeIndex: 323 entries, 0 to 322\n",
      "Data columns (total 11 columns):\n",
      " #   Column        Non-Null Count  Dtype         \n",
      "---  ------        --------------  -----         \n",
      " 0   Discount      323 non-null    float64       \n",
      " 1   Amount        323 non-null    float64       \n",
      " 2   Order Date    323 non-null    datetime64[ns]\n",
      " 3   Ship Country  323 non-null    object        \n",
      " 4   Ship City     323 non-null    object        \n",
      " 5   Customer      323 non-null    object        \n",
      " 6   Quantity      323 non-null    int64         \n",
      " 7   Unit Price    323 non-null    float64       \n",
      " 8   Category      323 non-null    object        \n",
      " 9   Product       323 non-null    object        \n",
      " 10  Order ID      323 non-null    int64         \n",
      "dtypes: datetime64[ns](1), float64(3), int64(2), object(5)\n",
      "memory usage: 27.9+ KB\n",
      "None\n"
     ]
    }
   ],
   "source": [
    "print(year.info())"
   ]
  },
  {
   "cell_type": "code",
   "execution_count": 11,
   "metadata": {},
   "outputs": [
    {
     "data": {
      "text/plain": [
       "Category\n",
       "Beverages         23678.8\n",
       "Condiments        11043.2\n",
       "Confections       28385.9\n",
       "Dairy Products    26430.8\n",
       "Grains/Cereals     2816.4\n",
       "Meat/Poultry      18682.3\n",
       "Produce            7766.6\n",
       "Seafood           18764.1\n",
       "Name: Amount, dtype: float64"
      ]
     },
     "execution_count": 11,
     "metadata": {},
     "output_type": "execute_result"
    }
   ],
   "source": [
    "year.groupby(['Category']).Amount.sum()\n",
    "# В этой команде происходит группировка данных столбца \"Amount\" по уникальным значениям столбца \"Category\" в DataFrame `year`, \n",
    "# а затем вычисление суммы значений столбца \"Amount\" для каждой категории."
   ]
  },
  {
   "cell_type": "code",
   "execution_count": 12,
   "metadata": {},
   "outputs": [
    {
     "data": {
      "text/plain": [
       "Ship Country  Category      \n",
       "Austria       Beverages          860.8\n",
       "              Condiments        1105.0\n",
       "              Confections        834.0\n",
       "              Dairy Products     153.6\n",
       "              Produce            288.0\n",
       "                                 ...  \n",
       "Venezuela     Beverages           86.4\n",
       "              Condiments         900.0\n",
       "              Confections       1688.7\n",
       "              Dairy Products    3851.0\n",
       "              Meat/Poultry       990.0\n",
       "Name: Amount, Length: 83, dtype: float64"
      ]
     },
     "execution_count": 12,
     "metadata": {},
     "output_type": "execute_result"
    }
   ],
   "source": [
    "year.groupby(['Ship Country', 'Category']).Amount.sum()"
   ]
  },
  {
   "cell_type": "code",
   "execution_count": 14,
   "metadata": {},
   "outputs": [
    {
     "name": "stdout",
     "output_type": "stream",
     "text": [
      "                 Amount\n",
      "Category               \n",
      "Beverages       23678.8\n",
      "Condiments      11043.2\n",
      "Confections     28385.9\n",
      "Dairy Products  26430.8\n",
      "Grains/Cereals   2816.4\n",
      "Meat/Poultry    18682.3\n",
      "Produce          7766.6\n",
      "Seafood         18764.1\n"
     ]
    }
   ],
   "source": [
    "year_group1 = year.groupby(['Category']).Amount.sum()\n",
    "year_group1 = pd.DataFrame(year_group1, columns=['Amount'])\n",
    "print(year_group1)"
   ]
  },
  {
   "cell_type": "code",
   "execution_count": 15,
   "metadata": {},
   "outputs": [
    {
     "name": "stdout",
     "output_type": "stream",
     "text": [
      "         Category   Amount\n",
      "0       Beverages  23678.8\n",
      "1      Condiments  11043.2\n",
      "2     Confections  28385.9\n",
      "3  Dairy Products  26430.8\n",
      "4  Grains/Cereals   2816.4\n",
      "5    Meat/Poultry  18682.3\n",
      "6         Produce   7766.6\n",
      "7         Seafood  18764.1\n"
     ]
    }
   ],
   "source": [
    "year_group1 = year_group1.reset_index()\n",
    "print(year_group1)\n",
    "# для сброса индексов группы данных, полученной после группировки с помощью `groupby`\n",
    "# индексы будут снова присвоены последовательно от 0 до N-1"
   ]
  },
  {
   "cell_type": "code",
   "execution_count": 17,
   "metadata": {},
   "outputs": [],
   "source": [
    "file3 = 'Category_Amount.csv'\n",
    "year_group1.to_csv(file3, sep=',', index=True)\n",
    "# выгрузилось в файлик"
   ]
  },
  {
   "cell_type": "code",
   "execution_count": 19,
   "metadata": {},
   "outputs": [],
   "source": [
    "file4 = 'Category_Amount.xlsx'\n",
    "year_group1.to_excel(file4, sheet_name='sheet 1', header=True, index=False)"
   ]
  },
  {
   "cell_type": "code",
   "execution_count": null,
   "metadata": {},
   "outputs": [],
   "source": []
  }
 ],
 "metadata": {
  "kernelspec": {
   "display_name": "Python 3.12.4 64-bit",
   "language": "python",
   "name": "python3"
  },
  "language_info": {
   "codemirror_mode": {
    "name": "ipython",
    "version": 3
   },
   "file_extension": ".py",
   "mimetype": "text/x-python",
   "name": "python",
   "nbconvert_exporter": "python",
   "pygments_lexer": "ipython3",
   "version": "3.12.4"
  },
  "orig_nbformat": 4,
  "vscode": {
   "interpreter": {
    "hash": "aee8b7b246df8f9039afb4144a1f6fd8d2ca17a180786b69acc140d282b71a49"
   }
  }
 },
 "nbformat": 4,
 "nbformat_minor": 2
}
