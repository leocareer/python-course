{
 "cells": [
  {
   "cell_type": "code",
   "execution_count": 2,
   "id": "0cb21f60",
   "metadata": {},
   "outputs": [],
   "source": [
    "# Haremos una linea de comentario\n",
    "# Las variables son elementos temporales\n",
    "x=5"
   ]
  },
  {
   "cell_type": "code",
   "execution_count": 7,
   "id": "e6675e4d",
   "metadata": {},
   "outputs": [
    {
     "name": "stdout",
     "output_type": "stream",
     "text": [
      "5\n"
     ]
    },
    {
     "data": {
      "text/plain": [
       "7"
      ]
     },
     "execution_count": 7,
     "metadata": {},
     "output_type": "execute_result"
    }
   ],
   "source": [
    "# Como ver un resultado, se ve en el output\n",
    "print(x)\n",
    "x+2"
   ]
  },
  {
   "cell_type": "code",
   "execution_count": 8,
   "id": "671b5889",
   "metadata": {},
   "outputs": [
    {
     "data": {
      "text/plain": [
       "8"
      ]
     },
     "execution_count": 8,
     "metadata": {},
     "output_type": "execute_result"
    }
   ],
   "source": [
    "# Distingue mayus de minus\n",
    "X=3\n",
    "x+X"
   ]
  },
  {
   "cell_type": "code",
   "execution_count": 15,
   "id": "103e8111",
   "metadata": {},
   "outputs": [
    {
     "name": "stdout",
     "output_type": "stream",
     "text": [
      "Lunes\n",
      "Hoy es Lunes y manana martes\n"
     ]
    }
   ],
   "source": [
    "# Veriables alfanumericas letras + numeros\n",
    "# entre comillas simples o dobles\n",
    "dia='Lunes'\n",
    "print(dia)\n",
    "print(\"Hoy es\", dia, \"y manana martes\")"
   ]
  },
  {
   "cell_type": "code",
   "execution_count": 16,
   "id": "3b8cf259",
   "metadata": {},
   "outputs": [
    {
     "name": "stdout",
     "output_type": "stream",
     "text": [
      "8\n"
     ]
    }
   ],
   "source": [
    "x=8\n",
    "print(x)"
   ]
  },
  {
   "cell_type": "code",
   "execution_count": 18,
   "id": "3d335e00",
   "metadata": {},
   "outputs": [
    {
     "data": {
      "text/plain": [
       "['Lunes', 'Martes', 'Miercoles', 'Jueves', 15, 25, 'Enero', 15]"
      ]
     },
     "execution_count": 18,
     "metadata": {},
     "output_type": "execute_result"
    }
   ],
   "source": [
    "# Listas, tuplas y diccionarios\n",
    "semana=['Lunes','Martes','Miercoles','Jueves',15,25,\"Enero\",15]\n",
    "semana"
   ]
  },
  {
   "cell_type": "code",
   "execution_count": 19,
   "id": "02fcfa0d",
   "metadata": {},
   "outputs": [
    {
     "data": {
      "text/plain": [
       "'Lunes'"
      ]
     },
     "execution_count": 19,
     "metadata": {},
     "output_type": "execute_result"
    }
   ],
   "source": [
    "semana[0]"
   ]
  },
  {
   "cell_type": "code",
   "execution_count": 20,
   "id": "105ba896",
   "metadata": {},
   "outputs": [],
   "source": [
    "semana[0]='Domingo'"
   ]
  },
  {
   "cell_type": "code",
   "execution_count": 21,
   "id": "813e23b8",
   "metadata": {},
   "outputs": [
    {
     "data": {
      "text/plain": [
       "['Domingo', 'Martes', 'Miercoles', 'Jueves', 15, 25, 'Enero', 15]"
      ]
     },
     "execution_count": 21,
     "metadata": {},
     "output_type": "execute_result"
    }
   ],
   "source": [
    "semana"
   ]
  },
  {
   "cell_type": "code",
   "execution_count": 28,
   "id": "80f8c59c",
   "metadata": {},
   "outputs": [
    {
     "name": "stdout",
     "output_type": "stream",
     "text": [
      "['Domingo', 'Martes', 'Miercoles', 'Jueves', 15, 25, 'Enero', 15]\n"
     ]
    },
    {
     "data": {
      "text/plain": [
       "8"
      ]
     },
     "execution_count": 28,
     "metadata": {},
     "output_type": "execute_result"
    }
   ],
   "source": [
    "# Funcion len, nos de el numero de caracteres\n",
    "print(semana)\n",
    "len(semana)"
   ]
  },
  {
   "cell_type": "code",
   "execution_count": 30,
   "id": "340e6efe",
   "metadata": {},
   "outputs": [
    {
     "name": "stdout",
     "output_type": "stream",
     "text": [
      "Lunes\n"
     ]
    },
    {
     "data": {
      "text/plain": [
       "5"
      ]
     },
     "execution_count": 30,
     "metadata": {},
     "output_type": "execute_result"
    }
   ],
   "source": [
    "print(dia)\n",
    "len(dia)"
   ]
  },
  {
   "cell_type": "code",
   "execution_count": 32,
   "id": "bdc7ec5c",
   "metadata": {},
   "outputs": [
    {
     "name": "stdout",
     "output_type": "stream",
     "text": [
      "Domingo\n"
     ]
    },
    {
     "data": {
      "text/plain": [
       "7"
      ]
     },
     "execution_count": 32,
     "metadata": {},
     "output_type": "execute_result"
    }
   ],
   "source": [
    "print(semana[0])\n",
    "len(semana[0])"
   ]
  },
  {
   "cell_type": "code",
   "execution_count": 34,
   "id": "88f713ca",
   "metadata": {},
   "outputs": [
    {
     "name": "stdout",
     "output_type": "stream",
     "text": [
      "['Domingo', 'Martes', 'Miercoles', 'Jueves', 15, 25, 'Enero', 15, 'Viernes']\n",
      "['Domingo', 'Martes', 'Miercoles', 'Jueves', 15, 25, 'Enero', 15, 'Viernes', 'Viernes']\n"
     ]
    }
   ],
   "source": [
    "print(semana)\n",
    "semana.append('Viernes')\n",
    "print(semana)"
   ]
  },
  {
   "cell_type": "code",
   "execution_count": 35,
   "id": "eb970d38",
   "metadata": {},
   "outputs": [
    {
     "name": "stdout",
     "output_type": "stream",
     "text": [
      "['Domingo', 'Lunes', 'Martes', 'Miercoles', 'Jueves', 15, 25, 'Enero', 15, 'Viernes', 'Viernes']\n"
     ]
    }
   ],
   "source": [
    "# Para insertar un elemento con insert\n",
    "semana.insert(1,'Lunes')\n",
    "print(semana)"
   ]
  },
  {
   "cell_type": "code",
   "execution_count": 38,
   "id": "67086faf",
   "metadata": {},
   "outputs": [
    {
     "data": {
      "text/plain": [
       "2"
      ]
     },
     "execution_count": 38,
     "metadata": {},
     "output_type": "execute_result"
    }
   ],
   "source": [
    "# Para ver cuantos veces esta repetido un elemento con count\n",
    "semana.count('Viernes')"
   ]
  },
  {
   "cell_type": "code",
   "execution_count": 39,
   "id": "1eced9b3",
   "metadata": {},
   "outputs": [
    {
     "data": {
      "text/plain": [
       "2"
      ]
     },
     "execution_count": 39,
     "metadata": {},
     "output_type": "execute_result"
    }
   ],
   "source": [
    "semana.count(15)"
   ]
  },
  {
   "cell_type": "code",
   "execution_count": 40,
   "id": "d57e6269",
   "metadata": {},
   "outputs": [
    {
     "name": "stdout",
     "output_type": "stream",
     "text": [
      "['Domingo', 'Lunes', 'Martes', 'Miercoles', 'Jueves', 15, 25, 'Enero', 15, 'Viernes']\n"
     ]
    }
   ],
   "source": [
    "# Eliminar el primer elemento que encuenta con remove\n",
    "semana.remove('Viernes')\n",
    "print(semana)"
   ]
  },
  {
   "cell_type": "code",
   "execution_count": 41,
   "id": "b36f42e5",
   "metadata": {},
   "outputs": [
    {
     "name": "stdout",
     "output_type": "stream",
     "text": [
      "['Domingo', 'Lunes', 'Martes', 'Miercoles', 'Jueves', 25, 'Enero', 15, 'Viernes']\n"
     ]
    }
   ],
   "source": [
    "semana.remove(15)\n",
    "print(semana)"
   ]
  },
  {
   "cell_type": "code",
   "execution_count": 42,
   "id": "824c6ab1",
   "metadata": {},
   "outputs": [
    {
     "name": "stdout",
     "output_type": "stream",
     "text": [
      "['Domingo', 'Lunes', 'Martes', 'Miercoles', 'Jueves', 25, 'Enero', 15, 'Viernes', 'Lunes']\n"
     ]
    }
   ],
   "source": [
    "semana.append('Lunes')\n",
    "print(semana)"
   ]
  },
  {
   "cell_type": "code",
   "execution_count": 43,
   "id": "5cd95dff",
   "metadata": {},
   "outputs": [
    {
     "name": "stdout",
     "output_type": "stream",
     "text": [
      "['Domingo', 'Martes', 'Miercoles', 'Jueves', 25, 'Enero', 15, 'Viernes', 'Lunes']\n"
     ]
    }
   ],
   "source": [
    "del semana[1]\n",
    "print(semana)"
   ]
  },
  {
   "cell_type": "markdown",
   "id": "ca04484b",
   "metadata": {},
   "source": [
    "##### PRACTICA 1: CREAREMOS UNA LISTA LLAMADA MESES, CON LOS MESES DE ENERO A MAYO MENOS ABRIL, ANADIREMOS AL FINAL JUNIO Y JULIO E INSERTAREMOS EN SU SITIO ABRIL, ANADIREMOS AL FINAL 2 VECES FEBRERO Y ALAMCENAREMOS EN UNA VARIABLE EL NUMERO DE VECES QUE ESTA FEBRERO, ELIMINAREMOS LOS FEBRERO SOBRANTES Y EN UN TEXTO VER EL NUMERO DE FEBREROS QUE HABIA"
   ]
  },
  {
   "cell_type": "code",
   "execution_count": 69,
   "id": "ba942bbf",
   "metadata": {},
   "outputs": [
    {
     "name": "stdout",
     "output_type": "stream",
     "text": [
      "['enero', 'febrero', 'marzo', 'mayo']\n",
      "['enero', 'febrero', 'marzo', 'abril', 'mayo', 'junio', 'julio']\n",
      "['enero', 'febrero', 'marzo', 'abril', 'mayo', 'junio', 'julio', 'febrero', 'febrero']\n",
      "3\n"
     ]
    }
   ],
   "source": [
    "meses=['enero','febrero','marzo','mayo']\n",
    "print(meses)\n",
    "\n",
    "meses.append('junio')\n",
    "meses.append('julio')\n",
    "meses.insert(3,'abril')\n",
    "print(meses)\n",
    "\n",
    "meses.append('febrero')\n",
    "meses.append('febrero')\n",
    "print(meses)\n",
    "\n",
    "x=meses.count('febrero')\n",
    "print(x)"
   ]
  },
  {
   "cell_type": "code",
   "execution_count": 70,
   "id": "3e93c7f0",
   "metadata": {},
   "outputs": [
    {
     "name": "stdout",
     "output_type": "stream",
     "text": [
      "['enero', 'febrero', 'marzo', 'abril', 'mayo', 'junio', 'julio']\n",
      "1\n"
     ]
    }
   ],
   "source": [
    "del meses[7:]\n",
    "print(meses)\n",
    "x=meses.count('febrero')\n",
    "print(x)"
   ]
  },
  {
   "cell_type": "code",
   "execution_count": null,
   "id": "61ae221c",
   "metadata": {},
   "outputs": [],
   "source": []
  }
 ],
 "metadata": {
  "kernelspec": {
   "display_name": "Python 3.12.4 64-bit",
   "language": "python",
   "name": "python3"
  },
  "language_info": {
   "codemirror_mode": {
    "name": "ipython",
    "version": 3
   },
   "file_extension": ".py",
   "mimetype": "text/x-python",
   "name": "python",
   "nbconvert_exporter": "python",
   "pygments_lexer": "ipython3",
   "version": "3.12.4"
  },
  "vscode": {
   "interpreter": {
    "hash": "aee8b7b246df8f9039afb4144a1f6fd8d2ca17a180786b69acc140d282b71a49"
   }
  }
 },
 "nbformat": 4,
 "nbformat_minor": 5
}
