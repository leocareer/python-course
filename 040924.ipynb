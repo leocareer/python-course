{
 "cells": [
  {
   "cell_type": "code",
   "execution_count": 4,
   "metadata": {},
   "outputs": [
    {
     "name": "stdout",
     "output_type": "stream",
     "text": [
      "['La', 'proxima', 'clase', 'sera', 'jueves', 'y', 'la', 'siguente', 'lunes,', 'viernes', 'no', 'vengo']\n"
     ]
    },
    {
     "data": {
      "text/plain": [
       "list"
      ]
     },
     "execution_count": 4,
     "metadata": {},
     "output_type": "execute_result"
    }
   ],
   "source": [
    "# Funcion que separa un texto entre espacios en blanco, split\n",
    "\n",
    "palabra = 'La proxima clase sera jueves y la siguente lunes, viernes no vengo'\n",
    "lista = palabra.split()\n",
    "print(lista)\n",
    "type(lista)"
   ]
  },
  {
   "cell_type": "code",
   "execution_count": 5,
   "metadata": {},
   "outputs": [
    {
     "data": {
      "text/plain": [
       "['La',\n",
       " 'proxima',\n",
       " 'clase',\n",
       " 'sera',\n",
       " 'jueves',\n",
       " 'y',\n",
       " 'la',\n",
       " 'siguente',\n",
       " 'lunes,',\n",
       " 'viernes',\n",
       " 'no',\n",
       " 'vengo']"
      ]
     },
     "execution_count": 5,
     "metadata": {},
     "output_type": "execute_result"
    }
   ],
   "source": [
    "list(lista)"
   ]
  },
  {
   "cell_type": "code",
   "execution_count": 6,
   "metadata": {},
   "outputs": [
    {
     "name": "stdout",
     "output_type": "stream",
     "text": [
      "1\n",
      "2\n",
      "3\n"
     ]
    }
   ],
   "source": [
    "# El bucle infinito while (mientras)\n",
    "i = 1\n",
    "while i <= 3:\n",
    "  print(i)\n",
    "  i += 1"
   ]
  },
  {
   "cell_type": "markdown",
   "metadata": {},
   "source": [
    "#### PRACTICA 1: MEDIANTE UN BUCLE WHILE, IMPRIMIR EL VALOR DE UNA VARIABLE I SIEMPRE Y CUANDO SEA MENOR DE 50, PARTIREMOS DE I=3 E INCREMENTAREMOS DE 3 EN 3"
   ]
  },
  {
   "cell_type": "code",
   "execution_count": 9,
   "metadata": {},
   "outputs": [
    {
     "name": "stdout",
     "output_type": "stream",
     "text": [
      "3 6 9 12 15 18 21 24 27 30 33 36 39 42 45 48 "
     ]
    }
   ],
   "source": [
    "i = 3\n",
    "while i < 50:\n",
    "  print(i, end = ' ')\n",
    "  i += 3"
   ]
  },
  {
   "cell_type": "markdown",
   "metadata": {},
   "source": [
    "#### LIBRERIAS"
   ]
  },
  {
   "cell_type": "code",
   "execution_count": 10,
   "metadata": {},
   "outputs": [
    {
     "name": "stdout",
     "output_type": "stream",
     "text": [
      "2024-09-04\n"
     ]
    }
   ],
   "source": [
    "from datetime import date # Sirve para trabajar con fechas\n",
    "hoy = date.today()\n",
    "print(hoy)"
   ]
  },
  {
   "cell_type": "code",
   "execution_count": 11,
   "metadata": {},
   "outputs": [
    {
     "name": "stdout",
     "output_type": "stream",
     "text": [
      "2024-09-04 16:14:49.715746\n"
     ]
    }
   ],
   "source": [
    "from datetime import datetime\n",
    "ahora = datetime.now()\n",
    "print(ahora)"
   ]
  },
  {
   "cell_type": "code",
   "execution_count": 12,
   "metadata": {},
   "outputs": [
    {
     "name": "stdout",
     "output_type": "stream",
     "text": [
      "4\n",
      "9\n",
      "2024\n"
     ]
    }
   ],
   "source": [
    "# Obtener un periodo de una fecha\n",
    "\n",
    "print(hoy.day)\n",
    "print(hoy.month)\n",
    "print(hoy.year)"
   ]
  },
  {
   "cell_type": "code",
   "execution_count": 14,
   "metadata": {},
   "outputs": [
    {
     "name": "stdout",
     "output_type": "stream",
     "text": [
      "16\n",
      "14\n",
      "49\n"
     ]
    }
   ],
   "source": [
    "# Obtener por separado horas, minutos y segundos\n",
    "print(ahora.hour)\n",
    "print(ahora.minute)\n",
    "print(ahora.second)"
   ]
  },
  {
   "cell_type": "markdown",
   "metadata": {},
   "source": [
    "PRACTICA 2: CREAR UN CODIGO QUE ME DEVUELVA EL NUMERO DE SEGUNDOS TRANSCURRIDOS ENTRE LA PRIMERA EJERCUCION DE UNA CELDA Y LA SEGUNDA EJECUCION DE OTRA CELDA"
   ]
  },
  {
   "cell_type": "code",
   "execution_count": 19,
   "metadata": {},
   "outputs": [],
   "source": [
    "celda1 = datetime.now()"
   ]
  },
  {
   "cell_type": "code",
   "execution_count": 20,
   "metadata": {},
   "outputs": [
    {
     "name": "stdout",
     "output_type": "stream",
     "text": [
      "3\n"
     ]
    }
   ],
   "source": [
    "celda2 = datetime.now()\n",
    "print(celda2.second - celda1.second)"
   ]
  },
  {
   "cell_type": "code",
   "execution_count": 21,
   "metadata": {},
   "outputs": [
    {
     "data": {
      "text/plain": [
       "3.114776"
      ]
     },
     "execution_count": 21,
     "metadata": {},
     "output_type": "execute_result"
    }
   ],
   "source": [
    "res = celda2 - celda1\n",
    "res.total_seconds()"
   ]
  },
  {
   "cell_type": "code",
   "execution_count": 23,
   "metadata": {},
   "outputs": [
    {
     "name": "stdout",
     "output_type": "stream",
     "text": [
      "2024-08-27 16:10:00\n"
     ]
    }
   ],
   "source": [
    "# Como ajustar una fecha concreta, 27/08/2024\n",
    "fecha = datetime(2024,8,27,16,10)\n",
    "# Con datetime primero ano, despues mes y a continuacion dia\n",
    "# facha = daetime(Ano, Mes, Dia, Hora, Minuto, Secundo, Milisecundo)\n",
    "print(fecha)"
   ]
  },
  {
   "cell_type": "markdown",
   "metadata": {},
   "source": [
    "#### LAS LIBRERIAS EN PYTHON, LLEVAN FUNCTIONALIDADES ESPESIALES PARA PODER SER UTILIZADAS, PRIMERO LAS TENEMOS QUE INSTALAR Y DESPUES LLAMARLAS, SE INSTALA CON PIP O CONDA\n",
    "\n",
    "#### PANDAS = SIRVE PARA TRABAJAR CON DATAS\n",
    "#### NUMPY = PARA TRABAJAR CON MATRICES\n",
    "#### MATPLOTLIB = PARA CREAR GRAFICOS\n",
    "#### SCIKIT-LEARN = ANALISIS PREDICTIVO\n",
    "\n",
    "#### EN EL SIMBOLO SISTEMA (COMO ADMINISTRADOR), HAREMOS PIP LIST (VER LAS LIBRERIAS INSTALADAS) PARA INSTALAR PIP INSTALL PANDAS, SI YA TENGO UNA VERSION DE PANDAS\n"
   ]
  },
  {
   "cell_type": "code",
   "execution_count": 24,
   "metadata": {},
   "outputs": [],
   "source": [
    "import pandas as pd"
   ]
  },
  {
   "cell_type": "markdown",
   "metadata": {},
   "source": [
    "#### Pandas sirve para trabajar con datos, 3 tipos de estructura diferentes, series = estructura de 1 dimension, llevan un indice asociado, data frames = estructuras de 2 dimensiones al estilo de una tabla de uno BBDD, campos + registros paneles = estructuras de 3 dimensiones, como un cubo. Vamos a crear una serie de manera manual, son homodeneas (el mismo tipo de dato)"
   ]
  },
  {
   "cell_type": "code",
   "execution_count": 26,
   "metadata": {},
   "outputs": [
    {
     "name": "stdout",
     "output_type": "stream",
     "text": [
      "0       Lunes\n",
      "1      Martes\n",
      "2    Mercoles\n",
      "3      Jueves\n",
      "4     Viernes\n",
      "dtype: object\n"
     ]
    }
   ],
   "source": [
    "semana = pd.Series(['Lunes', 'Martes', 'Mercoles', 'Jueves', 'Viernes'])\n",
    "print(semana)"
   ]
  },
  {
   "cell_type": "code",
   "execution_count": 28,
   "metadata": {},
   "outputs": [
    {
     "name": "stdout",
     "output_type": "stream",
     "text": [
      "0     12\n",
      "1     34\n",
      "2     45\n",
      "3    345\n",
      "4     45\n",
      "5    123\n",
      "dtype: int64\n"
     ]
    }
   ],
   "source": [
    "numeros = [12, 34, 45, 345, 45, 123]\n",
    "sn = pd.Series(data=numeros)\n",
    "print(sn)"
   ]
  },
  {
   "cell_type": "code",
   "execution_count": 29,
   "metadata": {},
   "outputs": [
    {
     "data": {
      "text/plain": [
       "6"
      ]
     },
     "execution_count": 29,
     "metadata": {},
     "output_type": "execute_result"
    }
   ],
   "source": [
    "sn.size"
   ]
  },
  {
   "cell_type": "code",
   "execution_count": 30,
   "metadata": {},
   "outputs": [
    {
     "name": "stdout",
     "output_type": "stream",
     "text": [
      "604\n"
     ]
    }
   ],
   "source": [
    "# La suma de los elementos de la serie\n",
    "print(sn.sum())"
   ]
  }
 ],
 "metadata": {
  "kernelspec": {
   "display_name": "Python 3.12.4 64-bit",
   "language": "python",
   "name": "python3"
  },
  "language_info": {
   "codemirror_mode": {
    "name": "ipython",
    "version": 3
   },
   "file_extension": ".py",
   "mimetype": "text/x-python",
   "name": "python",
   "nbconvert_exporter": "python",
   "pygments_lexer": "ipython3",
   "version": "3.12.4"
  },
  "orig_nbformat": 4,
  "vscode": {
   "interpreter": {
    "hash": "aee8b7b246df8f9039afb4144a1f6fd8d2ca17a180786b69acc140d282b71a49"
   }
  }
 },
 "nbformat": 4,
 "nbformat_minor": 2
}
