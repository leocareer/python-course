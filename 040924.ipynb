{
 "cells": [
  {
   "cell_type": "code",
   "execution_count": 62,
   "metadata": {},
   "outputs": [
    {
     "name": "stdout",
     "output_type": "stream",
     "text": [
      "['La', 'proxima', 'clase', 'sera', 'jueves', 'y', 'la', 'siguente', 'lunes,', 'viernes', 'no', 'vengo']\n"
     ]
    },
    {
     "data": {
      "text/plain": [
       "list"
      ]
     },
     "execution_count": 62,
     "metadata": {},
     "output_type": "execute_result"
    }
   ],
   "source": [
    "# Funcion que separa un texto entre espacios en blanco, split\n",
    "\n",
    "palabra = 'La proxima clase sera jueves y la siguente lunes, viernes no vengo'\n",
    "lista = palabra.split()\n",
    "print(lista)\n",
    "type(lista)"
   ]
  },
  {
   "cell_type": "code",
   "execution_count": 63,
   "metadata": {},
   "outputs": [
    {
     "data": {
      "text/plain": [
       "['La',\n",
       " 'proxima',\n",
       " 'clase',\n",
       " 'sera',\n",
       " 'jueves',\n",
       " 'y',\n",
       " 'la',\n",
       " 'siguente',\n",
       " 'lunes,',\n",
       " 'viernes',\n",
       " 'no',\n",
       " 'vengo']"
      ]
     },
     "execution_count": 63,
     "metadata": {},
     "output_type": "execute_result"
    }
   ],
   "source": [
    "list(lista)"
   ]
  },
  {
   "cell_type": "code",
   "execution_count": 64,
   "metadata": {},
   "outputs": [
    {
     "name": "stdout",
     "output_type": "stream",
     "text": [
      "1\n",
      "2\n",
      "3\n"
     ]
    }
   ],
   "source": [
    "# El bucle infinito while (mientras)\n",
    "i = 1\n",
    "while i <= 3:\n",
    "  print(i)\n",
    "  i += 1"
   ]
  },
  {
   "cell_type": "markdown",
   "metadata": {},
   "source": [
    "#### PRACTICA 1: MEDIANTE UN BUCLE WHILE, IMPRIMIR EL VALOR DE UNA VARIABLE I SIEMPRE Y CUANDO SEA MENOR DE 50, PARTIREMOS DE I=3 E INCREMENTAREMOS DE 3 EN 3"
   ]
  },
  {
   "cell_type": "code",
   "execution_count": 65,
   "metadata": {},
   "outputs": [
    {
     "name": "stdout",
     "output_type": "stream",
     "text": [
      "3 6 9 12 15 18 21 24 27 30 33 36 39 42 45 48 "
     ]
    }
   ],
   "source": [
    "i = 3\n",
    "while i < 50:\n",
    "  print(i, end = ' ')\n",
    "  i += 3"
   ]
  },
  {
   "cell_type": "markdown",
   "metadata": {},
   "source": [
    "#### LIBRERIAS"
   ]
  },
  {
   "cell_type": "code",
   "execution_count": 66,
   "metadata": {},
   "outputs": [
    {
     "name": "stdout",
     "output_type": "stream",
     "text": [
      "2024-09-04\n"
     ]
    }
   ],
   "source": [
    "from datetime import date # Sirve para trabajar con fechas\n",
    "hoy = date.today()\n",
    "print(hoy)"
   ]
  },
  {
   "cell_type": "code",
   "execution_count": 67,
   "metadata": {},
   "outputs": [
    {
     "name": "stdout",
     "output_type": "stream",
     "text": [
      "2024-09-04 18:53:06.284989\n"
     ]
    }
   ],
   "source": [
    "from datetime import datetime\n",
    "ahora = datetime.now()\n",
    "print(ahora)"
   ]
  },
  {
   "cell_type": "code",
   "execution_count": 68,
   "metadata": {},
   "outputs": [
    {
     "name": "stdout",
     "output_type": "stream",
     "text": [
      "4\n",
      "9\n",
      "2024\n"
     ]
    }
   ],
   "source": [
    "# Obtener un periodo de una fecha\n",
    "\n",
    "print(hoy.day)\n",
    "print(hoy.month)\n",
    "print(hoy.year)"
   ]
  },
  {
   "cell_type": "code",
   "execution_count": 69,
   "metadata": {},
   "outputs": [
    {
     "name": "stdout",
     "output_type": "stream",
     "text": [
      "18\n",
      "53\n",
      "6\n"
     ]
    }
   ],
   "source": [
    "# Obtener por separado horas, minutos y segundos\n",
    "print(ahora.hour)\n",
    "print(ahora.minute)\n",
    "print(ahora.second)"
   ]
  },
  {
   "cell_type": "markdown",
   "metadata": {},
   "source": [
    "PRACTICA 2: CREAR UN CODIGO QUE ME DEVUELVA EL NUMERO DE SEGUNDOS TRANSCURRIDOS ENTRE LA PRIMERA EJERCUCION DE UNA CELDA Y LA SEGUNDA EJECUCION DE OTRA CELDA"
   ]
  },
  {
   "cell_type": "code",
   "execution_count": 70,
   "metadata": {},
   "outputs": [],
   "source": [
    "celda1 = datetime.now()"
   ]
  },
  {
   "cell_type": "code",
   "execution_count": 71,
   "metadata": {},
   "outputs": [
    {
     "name": "stdout",
     "output_type": "stream",
     "text": [
      "0\n"
     ]
    }
   ],
   "source": [
    "celda2 = datetime.now()\n",
    "print(celda2.second - celda1.second)"
   ]
  },
  {
   "cell_type": "code",
   "execution_count": 72,
   "metadata": {},
   "outputs": [
    {
     "data": {
      "text/plain": [
       "0.015394"
      ]
     },
     "execution_count": 72,
     "metadata": {},
     "output_type": "execute_result"
    }
   ],
   "source": [
    "res = celda2 - celda1\n",
    "res.total_seconds()"
   ]
  },
  {
   "cell_type": "code",
   "execution_count": 73,
   "metadata": {},
   "outputs": [
    {
     "name": "stdout",
     "output_type": "stream",
     "text": [
      "2024-08-27 16:10:00\n"
     ]
    }
   ],
   "source": [
    "# Como ajustar una fecha concreta, 27/08/2024\n",
    "fecha = datetime(2024,8,27,16,10)\n",
    "# Con datetime primero ano, despues mes y a continuacion dia\n",
    "# facha = daetime(Ano, Mes, Dia, Hora, Minuto, Secundo, Milisecundo)\n",
    "print(fecha)"
   ]
  },
  {
   "cell_type": "markdown",
   "metadata": {},
   "source": [
    "#### LAS LIBRERIAS EN PYTHON, LLEVAN FUNCTIONALIDADES ESPESIALES PARA PODER SER UTILIZADAS, PRIMERO LAS TENEMOS QUE INSTALAR Y DESPUES LLAMARLAS, SE INSTALA CON PIP O CONDA\n",
    "\n",
    "#### PANDAS = SIRVE PARA TRABAJAR CON DATAS\n",
    "#### NUMPY = PARA TRABAJAR CON MATRICES\n",
    "#### MATPLOTLIB = PARA CREAR GRAFICOS\n",
    "#### SCIKIT-LEARN = ANALISIS PREDICTIVO\n",
    "\n",
    "#### EN EL SIMBOLO SISTEMA (COMO ADMINISTRADOR), HAREMOS PIP LIST (VER LAS LIBRERIAS INSTALADAS) PARA INSTALAR PIP INSTALL PANDAS, SI YA TENGO UNA VERSION DE PANDAS\n"
   ]
  },
  {
   "cell_type": "code",
   "execution_count": 74,
   "metadata": {},
   "outputs": [],
   "source": [
    "import pandas as pd"
   ]
  },
  {
   "cell_type": "markdown",
   "metadata": {},
   "source": [
    "#### Pandas sirve para trabajar con datos, 3 tipos de estructura diferentes, series = estructura de 1 dimension, llevan un indice asociado, data frames = estructuras de 2 dimensiones al estilo de una tabla de uno BBDD, campos + registros paneles = estructuras de 3 dimensiones, como un cubo. Vamos a crear una serie de manera manual, son homodeneas (el mismo tipo de dato)"
   ]
  },
  {
   "cell_type": "code",
   "execution_count": 75,
   "metadata": {},
   "outputs": [
    {
     "name": "stdout",
     "output_type": "stream",
     "text": [
      "0       Lunes\n",
      "1      Martes\n",
      "2    Mercoles\n",
      "3      Jueves\n",
      "4     Viernes\n",
      "dtype: object\n"
     ]
    }
   ],
   "source": [
    "semana = pd.Series(['Lunes', 'Martes', 'Mercoles', 'Jueves', 'Viernes'])\n",
    "print(semana)"
   ]
  },
  {
   "cell_type": "code",
   "execution_count": 76,
   "metadata": {},
   "outputs": [
    {
     "name": "stdout",
     "output_type": "stream",
     "text": [
      "0     12\n",
      "1     34\n",
      "2     45\n",
      "3    345\n",
      "4     45\n",
      "5    123\n",
      "dtype: int64\n"
     ]
    }
   ],
   "source": [
    "numeros = [12, 34, 45, 345, 45, 123]\n",
    "sn = pd.Series(data=numeros)\n",
    "print(sn)"
   ]
  },
  {
   "cell_type": "code",
   "execution_count": 77,
   "metadata": {},
   "outputs": [
    {
     "data": {
      "text/plain": [
       "6"
      ]
     },
     "execution_count": 77,
     "metadata": {},
     "output_type": "execute_result"
    }
   ],
   "source": [
    "sn.size"
   ]
  },
  {
   "cell_type": "code",
   "execution_count": 78,
   "metadata": {},
   "outputs": [
    {
     "name": "stdout",
     "output_type": "stream",
     "text": [
      "604\n"
     ]
    }
   ],
   "source": [
    "# La suma de los elementos de la serie\n",
    "print(sn.sum())"
   ]
  },
  {
   "cell_type": "code",
   "execution_count": 79,
   "metadata": {},
   "outputs": [
    {
     "name": "stdout",
     "output_type": "stream",
     "text": [
      "101\n"
     ]
    }
   ],
   "source": [
    "# El promedio de los elementos de una serie, con la funcion mean\n",
    "# среднее\n",
    "print(round(sn.mean()))"
   ]
  },
  {
   "cell_type": "code",
   "execution_count": 80,
   "metadata": {},
   "outputs": [
    {
     "name": "stdout",
     "output_type": "stream",
     "text": [
      "345\n",
      "12\n"
     ]
    }
   ],
   "source": [
    "# El valor mas grande y el mas pequeno de la serie\n",
    "print(sn.max())\n",
    "print(sn.min())"
   ]
  },
  {
   "cell_type": "code",
   "execution_count": 81,
   "metadata": {},
   "outputs": [
    {
     "name": "stdout",
     "output_type": "stream",
     "text": [
      "0     12\n",
      "1     34\n",
      "2     45\n",
      "3    345\n",
      "4     45\n",
      "5    123\n",
      "dtype: int64\n",
      "0     12\n",
      "1     46\n",
      "2     91\n",
      "3    436\n",
      "4    481\n",
      "5    604\n",
      "dtype: int64\n"
     ]
    }
   ],
   "source": [
    "# La suma acumulado, com la funcion cumsum\n",
    "print(sn)\n",
    "print(sn.cumsum())"
   ]
  },
  {
   "cell_type": "code",
   "execution_count": 82,
   "metadata": {},
   "outputs": [
    {
     "name": "stdout",
     "output_type": "stream",
     "text": [
      "23    3\n",
      "12    2\n",
      "45    1\n",
      "63    1\n",
      "44    1\n",
      "Name: count, dtype: int64\n"
     ]
    }
   ],
   "source": [
    "# Ver la cantidad de veces que se repite cada valor\n",
    "sn2 = pd.Series([12,23,12,45,23,63,44,23])\n",
    "print(sn2.value_counts())"
   ]
  },
  {
   "cell_type": "code",
   "execution_count": 83,
   "metadata": {},
   "outputs": [
    {
     "name": "stdout",
     "output_type": "stream",
     "text": [
      "328.8392857142857\n"
     ]
    }
   ],
   "source": [
    "print(sn2.var()) # дисперсия, мера разброса значений относительно среднего значения. "
   ]
  },
  {
   "cell_type": "code",
   "execution_count": 84,
   "metadata": {},
   "outputs": [
    {
     "name": "stdout",
     "output_type": "stream",
     "text": [
      "18.13392637335571\n"
     ]
    }
   ],
   "source": [
    "print(sn2.std()) # стандартное отклонение значений в серии. "
   ]
  },
  {
   "cell_type": "code",
   "execution_count": 85,
   "metadata": {},
   "outputs": [
    {
     "name": "stdout",
     "output_type": "stream",
     "text": [
      "count     8.000000\n",
      "mean     30.625000\n",
      "std      18.133926\n",
      "min      12.000000\n",
      "25%      20.250000\n",
      "50%      23.000000\n",
      "75%      44.250000\n",
      "max      63.000000\n",
      "dtype: float64\n"
     ]
    }
   ],
   "source": [
    "print(sn2.describe()) # генерирует сводку основных статистических характеристик для данных в серии, таких как количество записей, среднее значение, стандартное отклонение, минимальное и максимальное значение, квантили и т.д."
   ]
  },
  {
   "cell_type": "code",
   "execution_count": 86,
   "metadata": {},
   "outputs": [],
   "source": [
    "def suma5(x):\n",
    "  return x + 5"
   ]
  },
  {
   "cell_type": "code",
   "execution_count": 87,
   "metadata": {},
   "outputs": [
    {
     "data": {
      "text/plain": [
       "0    17\n",
       "1    28\n",
       "2    17\n",
       "3    50\n",
       "4    28\n",
       "5    68\n",
       "6    49\n",
       "7    28\n",
       "dtype: int64"
      ]
     },
     "execution_count": 87,
     "metadata": {},
     "output_type": "execute_result"
    }
   ],
   "source": [
    "sn2.apply(suma5)"
   ]
  },
  {
   "cell_type": "code",
   "execution_count": 88,
   "metadata": {},
   "outputs": [
    {
     "data": {
      "text/plain": [
       "0    17\n",
       "1    28\n",
       "2    17\n",
       "3    50\n",
       "4    28\n",
       "5    68\n",
       "6    49\n",
       "7    28\n",
       "dtype: int64"
      ]
     },
     "execution_count": 88,
     "metadata": {},
     "output_type": "execute_result"
    }
   ],
   "source": [
    "sn3 = sn2.apply(suma5)\n",
    "sn3"
   ]
  },
  {
   "cell_type": "code",
   "execution_count": 89,
   "metadata": {},
   "outputs": [
    {
     "name": "stdout",
     "output_type": "stream",
     "text": [
      "0     12\n",
      "1     34\n",
      "2     45\n",
      "4     45\n",
      "5    123\n",
      "3    345\n",
      "dtype: int64\n"
     ]
    }
   ],
   "source": [
    "# Como ordenar una serie\n",
    "print(sn.sort_values(ascending=True))"
   ]
  },
  {
   "cell_type": "code",
   "execution_count": 90,
   "metadata": {},
   "outputs": [
    {
     "name": "stdout",
     "output_type": "stream",
     "text": [
      "3    345\n",
      "5    123\n",
      "2     45\n",
      "4     45\n",
      "1     34\n",
      "0     12\n",
      "dtype: int64\n"
     ]
    }
   ],
   "source": [
    "print(sn.sort_values(ascending=False))"
   ]
  },
  {
   "cell_type": "code",
   "execution_count": 91,
   "metadata": {},
   "outputs": [
    {
     "name": "stdout",
     "output_type": "stream",
     "text": [
      "0     12\n",
      "1     34\n",
      "2     45\n",
      "3     45\n",
      "4    123\n",
      "5    345\n",
      "dtype: int64\n"
     ]
    }
   ],
   "source": [
    "sn4 = sn.sort_values(ascending=True, ignore_index=True)\n",
    "print(sn4)"
   ]
  },
  {
   "cell_type": "code",
   "execution_count": 92,
   "metadata": {},
   "outputs": [
    {
     "data": {
      "text/plain": [
       "3    345\n",
       "5    123\n",
       "dtype: int64"
      ]
     },
     "execution_count": 92,
     "metadata": {},
     "output_type": "execute_result"
    }
   ],
   "source": [
    "# Como filtrar una serie, los mayores de 60\n",
    "sn[sn>60]"
   ]
  },
  {
   "cell_type": "markdown",
   "metadata": {},
   "source": [
    "#### PRACTICA 3: CREAREMOS UNA LISTA CON LOS SIGUENTES NUMEROS 25,17,34,82,124,75,44,63,47,9,81,124,75, CON ESTA LISTA CREAREMOS UNA SERIE DE PANDAS LLAMADA NUMVIP, CLONAREMOS LA SERIE PARA TENER SOLAMENTE LOS NUMEROS MAYORES DE 40 Y ADMEMAS EN ORDER DESCENDENTE + REINDEXADO. LE LLAMAREMOS NUMVIP40, A ESTA NUEVA SERIE LA APLICAREMOS UNA FUNCION QUE SUME 2 Y DIVIDA 1. 25 A CADA ELEMENTO DE LA SERIE. VER DE LA LISTA NUMVIP40 LA CANTIDAD DE VECES QUE SE REPITE CADA NUMERO, VER EN UN TEXTO LA DESVIACION TIPICA DE NUMVIP40, VER UNA TEXTO CON LA VARIANZA DE NUMVIP40 (DESPUES DE APLICAR LA FUNCION)"
   ]
  },
  {
   "cell_type": "code",
   "execution_count": 102,
   "metadata": {},
   "outputs": [
    {
     "name": "stdout",
     "output_type": "stream",
     "text": [
      "0     44\n",
      "1     47\n",
      "2     63\n",
      "3     75\n",
      "4     75\n",
      "5     81\n",
      "6     82\n",
      "7    124\n",
      "8    124\n",
      "dtype: int64\n"
     ]
    }
   ],
   "source": [
    "numvip = pd.Series([25,17,34,82,124,75,44,63,47,9,81,124,75])\n",
    "numvip40 = numvip[numvip>40].sort_values(ascending=True, ignore_index=True)\n",
    "print(numvip40)"
   ]
  },
  {
   "cell_type": "code",
   "execution_count": 105,
   "metadata": {},
   "outputs": [],
   "source": [
    "def funprac3(x):\n",
    "  return (x+2)/1.25"
   ]
  },
  {
   "cell_type": "code",
   "execution_count": 106,
   "metadata": {},
   "outputs": [
    {
     "name": "stdout",
     "output_type": "stream",
     "text": [
      "0      25\n",
      "1      17\n",
      "2      34\n",
      "3      82\n",
      "4     124\n",
      "5      75\n",
      "6      44\n",
      "7      63\n",
      "8      47\n",
      "9       9\n",
      "10     81\n",
      "11    124\n",
      "12     75\n",
      "dtype: int64\n",
      "0     36.8\n",
      "1     39.2\n",
      "2     52.0\n",
      "3     61.6\n",
      "4     61.6\n",
      "5     66.4\n",
      "6     67.2\n",
      "7    100.8\n",
      "8    100.8\n",
      "dtype: float64\n"
     ]
    }
   ],
   "source": [
    "res = numvip40.apply(funprac3)\n",
    "print(numvip)\n",
    "print(res)"
   ]
  },
  {
   "cell_type": "code",
   "execution_count": 107,
   "metadata": {},
   "outputs": [
    {
     "name": "stdout",
     "output_type": "stream",
     "text": [
      "22.975155663842145\n"
     ]
    }
   ],
   "source": [
    "print(res.std())"
   ]
  },
  {
   "cell_type": "code",
   "execution_count": 109,
   "metadata": {},
   "outputs": [
    {
     "data": {
      "text/plain": [
       "61.6     2\n",
       "100.8    2\n",
       "36.8     1\n",
       "39.2     1\n",
       "52.0     1\n",
       "66.4     1\n",
       "67.2     1\n",
       "Name: count, dtype: int64"
      ]
     },
     "execution_count": 109,
     "metadata": {},
     "output_type": "execute_result"
    }
   ],
   "source": [
    "res.value_counts()"
   ]
  },
  {
   "cell_type": "code",
   "execution_count": null,
   "metadata": {},
   "outputs": [],
   "source": []
  }
 ],
 "metadata": {
  "kernelspec": {
   "display_name": "Python 3.12.4 64-bit",
   "language": "python",
   "name": "python3"
  },
  "language_info": {
   "codemirror_mode": {
    "name": "ipython",
    "version": 3
   },
   "file_extension": ".py",
   "mimetype": "text/x-python",
   "name": "python",
   "nbconvert_exporter": "python",
   "pygments_lexer": "ipython3",
   "version": "3.12.4"
  },
  "orig_nbformat": 4,
  "vscode": {
   "interpreter": {
    "hash": "aee8b7b246df8f9039afb4144a1f6fd8d2ca17a180786b69acc140d282b71a49"
   }
  }
 },
 "nbformat": 4,
 "nbformat_minor": 2
}
