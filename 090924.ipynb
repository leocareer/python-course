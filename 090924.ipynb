{
 "cells": [
  {
   "cell_type": "markdown",
   "metadata": {},
   "source": [
    "PRACTICA 1: PARTIENDO DEL FICHERO VENTASGROUCERY_MESES.XLSX, CARGAR LOS 3 DATAFRAMES DE LOS MESES DE AGOCTO A OCTUBRE 2014, REALIZAR LAS MODIFICATIONES NECESARIAS, DESPUES DE ANEXAR TODOS LOS DATAFRAMES EN UNO SOLO LLAMAREMOS TRIMESTRE Y RESELVEREMOS LOS SIDUIENTES ENUNCIADOS.\n",
    "CREAR LA COLUMNA AMOUNT = UNIT PRICE * QUANTITY\n",
    "CREAR LA COLUMNA ENTERPRISE = 'DELTA ENTERPRISE'\n",
    "CREAR LA COLUMNA DISCOUNT = 3.35% SOBRE EL AMOUNT, SOLO PARA LOS PEDIDOS QUE SEAN DE FRANCE O GERMANY\n",
    "VER EN UN TEXTO, LA SUMA DE DISCOUNT ('EL TOTAL DE DESCUENTO ES X')\n",
    "VER EN UN TEXTO, EL PROMEDIO DE AMOUNT, DE LOS PEDIDOS CUYA CATEGORIA = BEVERAGES ('EL PROMEDIO DE AMOUNT, DE BEVERAGES ES X')\n",
    "VER EN UN TEXTO, LA SUME DE AMOUNT, DE LOS PEDIDOS DE LA CATEGORIA SEAFOOD CUYA CANTIDAD (QUANTITY) ESTE COMPRENDIDO ENTRE 25-75 ('LA SUMA DE AMOUNT DE SEAFOOD ENTRE 25-75 ES X')"
   ]
  },
  {
   "cell_type": "code",
   "execution_count": 1,
   "metadata": {},
   "outputs": [],
   "source": [
    "import pandas as pd"
   ]
  },
  {
   "cell_type": "code",
   "execution_count": 2,
   "metadata": {},
   "outputs": [],
   "source": [
    "file = 'VentasGroucery_Meses.xlsx'\n",
    "ago14 = pd.read_excel(file, sheet_name='Ventas Agosto 2014')\n",
    "sep14 = pd.read_excel(file, sheet_name='Ventas Septiembre 2014')\n",
    "oct14 = pd.read_excel(file, sheet_name='Ventas Octubre 2014')"
   ]
  },
  {
   "cell_type": "code",
   "execution_count": 3,
   "metadata": {},
   "outputs": [
    {
     "name": "stdout",
     "output_type": "stream",
     "text": [
      "<class 'pandas.core.frame.DataFrame'>\n",
      "RangeIndex: 185 entries, 0 to 184\n",
      "Data columns (total 9 columns):\n",
      " #   Column        Non-Null Count  Dtype         \n",
      "---  ------        --------------  -----         \n",
      " 0   Order ID      185 non-null    int64         \n",
      " 1   Product       185 non-null    object        \n",
      " 2   Category      185 non-null    object        \n",
      " 3   Unit Price    185 non-null    float64       \n",
      " 4   Quantity      185 non-null    int64         \n",
      " 5   Customer      185 non-null    object        \n",
      " 6   Ship City     185 non-null    object        \n",
      " 7   Ship Country  185 non-null    object        \n",
      " 8   Order Date    185 non-null    datetime64[ns]\n",
      "dtypes: datetime64[ns](1), float64(1), int64(2), object(5)\n",
      "memory usage: 13.1+ KB\n",
      "None\n"
     ]
    }
   ],
   "source": [
    "trimester = pd.concat([ago14, sep14, oct14], ignore_index=True)\n",
    "print(trimester.info())"
   ]
  },
  {
   "cell_type": "code",
   "execution_count": 4,
   "metadata": {},
   "outputs": [
    {
     "name": "stdout",
     "output_type": "stream",
     "text": [
      "     Order ID                 Product        Category  Unit Price  Quantity  \\\n",
      "102     10286          Tarte au sucre     Confections        39.4        40   \n",
      "53      10267    Raclette Courdavault  Dairy Products        44.0        70   \n",
      "71      10274  Mozzarella di Giovanni  Dairy Products        27.8         7   \n",
      "119     10293        Carnarvon Tigers         Seafood        50.0        12   \n",
      "115     10291   Manjimup Dried Apples         Produce        42.4         2   \n",
      "\n",
      "                      Customer       Ship City Ship Country Order Date  Amount  \n",
      "102                 QUICK-Stop       Cunewalde      Germany 2014-09-21  1576.0  \n",
      "53              Frankenversand         München      Germany 2014-08-29  3080.0  \n",
      "71   Vins et alcools Chevalier           Reims       France 2014-09-06   194.6  \n",
      "119        Tortuga Restaurante     México D.F.       Mexico 2014-09-29   600.0  \n",
      "115                Que Delícia  Rio de Janeiro       Brazil 2014-09-27    84.8  \n"
     ]
    }
   ],
   "source": [
    "trimester['Amount'] = trimester['Unit Price']*trimester['Quantity']\n",
    "print(trimester.sample(5))"
   ]
  },
  {
   "cell_type": "code",
   "execution_count": 5,
   "metadata": {},
   "outputs": [
    {
     "ename": "NameError",
     "evalue": "name 'df' is not defined",
     "output_type": "error",
     "traceback": [
      "\u001b[0;31m---------------------------------------------------------------------------\u001b[0m",
      "\u001b[0;31mNameError\u001b[0m                                 Traceback (most recent call last)",
      "Cell \u001b[0;32mIn[5], line 1\u001b[0m\n\u001b[0;32m----> 1\u001b[0m \u001b[43mdf\u001b[49m[\u001b[38;5;124m'\u001b[39m\u001b[38;5;124mEnterprise\u001b[39m\u001b[38;5;124m'\u001b[39m] \u001b[38;5;241m=\u001b[39m \u001b[38;5;124m'\u001b[39m\u001b[38;5;124mDelta Enterprise\u001b[39m\u001b[38;5;124m'\u001b[39m\n\u001b[1;32m      2\u001b[0m \u001b[38;5;28mprint\u001b[39m(df\u001b[38;5;241m.\u001b[39msample(\u001b[38;5;241m5\u001b[39m))\n",
      "\u001b[0;31mNameError\u001b[0m: name 'df' is not defined"
     ]
    }
   ],
   "source": [
    "df['Enterprise'] = 'Delta Enterprise'\n",
    "print(df.sample(5))"
   ]
  },
  {
   "cell_type": "code",
   "execution_count": null,
   "metadata": {},
   "outputs": [
    {
     "name": "stdout",
     "output_type": "stream",
     "text": [
      "     Order ID                 Product        Category  Unit Price  Quantity  \\\n",
      "77      10277       Rössle Sauerkraut         Produce        36.4        20   \n",
      "167     10309             Fløtemysost  Dairy Products        17.2         3   \n",
      "53      10267    Raclette Courdavault  Dairy Products        44.0        70   \n",
      "152     10304                Maxilaku     Confections        16.0        30   \n",
      "71      10274  Mozzarella di Giovanni  Dairy Products        27.8         7   \n",
      "\n",
      "                         Customer    Ship City Ship Country Order Date  \\\n",
      "77         Morgenstern Gesundkost      Leipzig      Germany 2014-09-09   \n",
      "167  Hungry Owl All-Night Grocers         Cork      Ireland 2014-10-20   \n",
      "53                 Frankenversand      München      Germany 2014-08-29   \n",
      "152           Tortuga Restaurante  México D.F.       Mexico 2014-10-13   \n",
      "71      Vins et alcools Chevalier        Reims       France 2014-09-06   \n",
      "\n",
      "     Amount        Enterprise  Discount  \n",
      "77    728.0  Delta Enterprise   24.3880  \n",
      "167    51.6  Delta Enterprise    0.0000  \n",
      "53   3080.0  Delta Enterprise  103.1800  \n",
      "152   480.0  Delta Enterprise    0.0000  \n",
      "71    194.6  Delta Enterprise    6.5191  \n"
     ]
    }
   ],
   "source": [
    "trimester.loc[(trimester['Ship Country'] == 'France') | (trimester['Ship Country'] == 'Germany'), 'Discount'] = trimester['Amount'] * 0.0335\n",
    "trimester['Discount'] = trimester['Discount'].fillna(0)\n",
    "print(trimester.sample(5))"
   ]
  },
  {
   "cell_type": "code",
   "execution_count": null,
   "metadata": {},
   "outputs": [
    {
     "name": "stdout",
     "output_type": "stream",
     "text": [
      "     Order ID                Product        Category  Unit Price  Quantity  \\\n",
      "91      10283           Genen Shouyu      Condiments        12.4        20   \n",
      "144     10302            Ipoh Coffee       Beverages        36.8        12   \n",
      "35      10260         Ravioli Angelo  Grains/Cereals        15.6        50   \n",
      "156     10306  Nord-Ost Matjeshering         Seafood        20.7        10   \n",
      "57      10269                Geitost  Dairy Products         2.0        60   \n",
      "\n",
      "                 Customer     Ship City Ship Country Order Date  Amount  \\\n",
      "91      LILA-Supermercado  Barquisimeto    Venezuela 2014-09-16   248.0   \n",
      "144      Suprêmes délices     Charleroi      Belgium 2014-10-11   441.6   \n",
      "35     Ottilies Käseladen          Köln      Germany 2014-08-19   780.0   \n",
      "156      Romero y tomillo        Madrid        Spain 2014-10-17   207.0   \n",
      "57   White Clover Markets       Seattle          USA 2014-08-31   120.0   \n",
      "\n",
      "     Discount  \n",
      "91       0.00  \n",
      "144      0.00  \n",
      "35      26.13  \n",
      "156      0.00  \n",
      "57       0.00  \n"
     ]
    }
   ],
   "source": [
    "def descuento(pais):\n",
    "  if (pais == 'France')|(pais == 'Germany'):\n",
    "    return 0.0335\n",
    "  else:\n",
    "    return 0\n",
    "\n",
    "trimester['Discount'] = trimester['Amount']*trimester['Ship Country'].apply(descuento)\n",
    "print(trimester.sample(5))"
   ]
  },
  {
   "cell_type": "code",
   "execution_count": null,
   "metadata": {},
   "outputs": [
    {
     "name": "stdout",
     "output_type": "stream",
     "text": [
      "EL TOTAL DE DESCUENTO ES 844.16\n"
     ]
    }
   ],
   "source": [
    "print('EL TOTAL DE DESCUENTO ES', round(trimester['Discount'].sum(),2))"
   ]
  },
  {
   "cell_type": "code",
   "execution_count": null,
   "metadata": {},
   "outputs": [
    {
     "name": "stdout",
     "output_type": "stream",
     "text": [
      "EL PROMEDIO DE AMOUNT, DE BEVERAGES ES 348.87\n"
     ]
    }
   ],
   "source": [
    "trimester_beverages = trimester['Category']=='Beverages'\n",
    "print('EL PROMEDIO DE AMOUNT, DE BEVERAGES ES', round(trimester[trimester_beverages]['Amount'].mean(),2))"
   ]
  },
  {
   "cell_type": "code",
   "execution_count": null,
   "metadata": {},
   "outputs": [
    {
     "name": "stdout",
     "output_type": "stream",
     "text": [
      "EL PROMEDIO DE AMOUNT, DE BEVERAGES ES 348.87\n"
     ]
    }
   ],
   "source": [
    "print('EL PROMEDIO DE AMOUNT, DE BEVERAGES ES', round(trimester[trimester['Category']=='Beverages']['Amount'].mean(),2))"
   ]
  },
  {
   "cell_type": "code",
   "execution_count": null,
   "metadata": {},
   "outputs": [
    {
     "name": "stdout",
     "output_type": "stream",
     "text": [
      "LA SUMA DE AMOUNT DE SEAFOOD ENTRE 25-75 ES 7539.5\n"
     ]
    }
   ],
   "source": [
    "trimester_seafood = (trimester['Quantity']>=25)&(trimester['Quantity']<=75)&(trimester['Category']=='Seafood')\n",
    "print('LA SUMA DE AMOUNT DE SEAFOOD ENTRE 25-75 ES', round(trimester[trimester_seafood]['Amount'].sum(),2))"
   ]
  },
  {
   "cell_type": "markdown",
   "metadata": {},
   "source": [
    "EL OBJETO iloc EN PANDAS, ME PERMITE ACCEDER A FILAS Y COLUMNAS DE UN DATAFRAME UTILIZANDO LOS INDICES NUMERICOS (BASADO EN POSICIONES), INTERGER LOCATION dataframe.iloc[fila, columna]\n",
    "ACCESO A UNA POSITION, ACCESO UN RANGO (SLICING), NEGATIVOS, DESDE EL FINAL"
   ]
  },
  {
   "cell_type": "code",
   "execution_count": null,
   "metadata": {},
   "outputs": [
    {
     "name": "stdout",
     "output_type": "stream",
     "text": [
      "Produce\n",
      "   Order ID                        Product        Category  Unit Price  \\\n",
      "0     10248  Singaporean Hokkien Fried Mee  Grains/Cereals         9.8   \n",
      "1     10248         Mozzarella di Giovanni  Dairy Products        34.8   \n",
      "2     10248                 Queso Cabrales  Dairy Products        14.0   \n",
      "3     10249                           Tofu         Produce        18.6   \n",
      "4     10249          Manjimup Dried Apples         Produce        42.4   \n",
      "\n",
      "   Quantity                   Customer Ship City Ship Country Order Date  \\\n",
      "0         1  Vins et alcools Chevalier     Reims       France 2014-08-04   \n",
      "1         5  Vins et alcools Chevalier     Reims       France 2014-08-04   \n",
      "2        12  Vins et alcools Chevalier     Reims       France 2014-08-04   \n",
      "3         9         Toms Spezialitäten   Münster      Germany 2014-08-05   \n",
      "4        40         Toms Spezialitäten   Münster      Germany 2014-08-05   \n",
      "\n",
      "   Amount  Discount  \n",
      "0     9.8    0.3283  \n",
      "1   174.0    5.8290  \n",
      "2   168.0    5.6280  \n",
      "3   167.4    5.6079  \n",
      "4  1696.0   56.8160  \n"
     ]
    }
   ],
   "source": [
    "print(trimester.iloc[4, 2])\n",
    "print(trimester.head(5))"
   ]
  },
  {
   "cell_type": "code",
   "execution_count": null,
   "metadata": {},
   "outputs": [
    {
     "name": "stdout",
     "output_type": "stream",
     "text": [
      "   Order ID                        Product        Category  Unit Price  \\\n",
      "0     10248  Singaporean Hokkien Fried Mee  Grains/Cereals         9.8   \n",
      "1     10248                   Sin producto  Dairy Products        34.8   \n",
      "2     10248                 Queso Cabrales  Dairy Products        14.0   \n",
      "3     10249                           Tofu         Produce        18.6   \n",
      "4     10249          Manjimup Dried Apples         Produce        42.4   \n",
      "\n",
      "   Quantity                   Customer Ship City Ship Country Order Date  \\\n",
      "0         1  Vins et alcools Chevalier     Reims       France 2014-08-04   \n",
      "1         5  Vins et alcools Chevalier     Reims       France 2014-08-04   \n",
      "2        12  Vins et alcools Chevalier     Reims       France 2014-08-04   \n",
      "3         9         Toms Spezialitäten   Münster      Germany 2014-08-05   \n",
      "4        40         Toms Spezialitäten   Münster      Germany 2014-08-05   \n",
      "\n",
      "   Amount  Discount  \n",
      "0     9.8    0.3283  \n",
      "1   174.0    5.8290  \n",
      "2   168.0    5.6280  \n",
      "3   167.4    5.6079  \n",
      "4  1696.0   56.8160  \n"
     ]
    }
   ],
   "source": [
    "trimester.iloc[1,1] = 'Sin producto'\n",
    "print(trimester.head(5))"
   ]
  },
  {
   "cell_type": "code",
   "execution_count": null,
   "metadata": {},
   "outputs": [
    {
     "name": "stdout",
     "output_type": "stream",
     "text": [
      "                    Customer                   Customer  \\\n",
      "0  Vins et alcools Chevalier  Vins et alcools Chevalier   \n",
      "1  Vins et alcools Chevalier  Vins et alcools Chevalier   \n",
      "2  Vins et alcools Chevalier  Vins et alcools Chevalier   \n",
      "3         Toms Spezialitäten         Toms Spezialitäten   \n",
      "4         Toms Spezialitäten         Toms Spezialitäten   \n",
      "\n",
      "                    Customer  \n",
      "0  Vins et alcools Chevalier  \n",
      "1  Vins et alcools Chevalier  \n",
      "2  Vins et alcools Chevalier  \n",
      "3         Toms Spezialitäten  \n",
      "4         Toms Spezialitäten  \n"
     ]
    }
   ],
   "source": [
    "print(trimester.iloc[:,[2,2,2]].head(5))"
   ]
  },
  {
   "cell_type": "code",
   "execution_count": 6,
   "metadata": {},
   "outputs": [
    {
     "name": "stdout",
     "output_type": "stream",
     "text": [
      "Index(['Order ID', 'Product', 'Category', 'Unit Price', 'Quantity', 'Customer',\n",
      "       'Ship City', 'Ship Country', 'Order Date', 'Amount'],\n",
      "      dtype='object')\n"
     ]
    }
   ],
   "source": [
    "print(trimester.columns)"
   ]
  },
  {
   "cell_type": "code",
   "execution_count": 7,
   "metadata": {},
   "outputs": [
    {
     "data": {
      "text/plain": [
       "10"
      ]
     },
     "execution_count": 7,
     "metadata": {},
     "output_type": "execute_result"
    }
   ],
   "source": [
    "len(trimester.columns)"
   ]
  },
  {
   "cell_type": "code",
   "execution_count": 8,
   "metadata": {},
   "outputs": [
    {
     "data": {
      "text/plain": [
       "185"
      ]
     },
     "execution_count": 8,
     "metadata": {},
     "output_type": "execute_result"
    }
   ],
   "source": [
    "len(trimester)"
   ]
  },
  {
   "cell_type": "code",
   "execution_count": 9,
   "metadata": {},
   "outputs": [
    {
     "name": "stdout",
     "output_type": "stream",
     "text": [
      "Singaporean Hokkien Fried Mee\n",
      "Mozzarella di Giovanni\n",
      "Queso Cabrales\n",
      "Tofu\n",
      "Manjimup Dried Apples\n",
      "Louisiana Fiery Hot Pepper Sauce\n",
      "Jack's New England Clam Chowder\n",
      "Manjimup Dried Apples\n",
      "Louisiana Fiery Hot Pepper Sauce\n",
      "Gustaf's Knäckebröd\n",
      "Ravioli Angelo\n",
      "Sir Rodney's Marmalade\n",
      "Geitost\n",
      "Camembert Pierrot\n",
      "Maxilaku\n",
      "Chartreuse verte\n",
      "Gorgonzola Telino\n",
      "Pâté chinois\n",
      "Longlife Tofu\n",
      "Guaraná Fantástica\n",
      "Raclette Courdavault\n",
      "Chang\n",
      "Pavlova\n",
      "Inlagd Sill\n",
      "Perth Pasties\n",
      "Original Frankfurter grüne Soße\n",
      "Schoggi Schokolade\n",
      "Chartreuse verte\n",
      "Original Frankfurter grüne Soße\n",
      "Chang\n",
      "Chef Anton's Gumbo Mix\n",
      "Mascarpone Fabioli\n",
      "Sir Rodney's Scones\n",
      "Gravad lax\n",
      "Jack's New England Clam Chowder\n",
      "Ravioli Angelo\n",
      "Tarte au sucre\n",
      "Outback Lager\n",
      "Sir Rodney's Scones\n",
      "Steeleye Stout\n",
      "Chef Anton's Gumbo Mix\n",
      "Uncle Bob's Organic Dried Pears\n",
      "Gnocchi di nonna Alice\n",
      "Pavlova\n",
      "Guaraná Fantástica\n",
      "Nord-Ost Matjeshering\n",
      "Longlife Tofu\n",
      "Chang\n",
      "Jack's New England Clam Chowder\n",
      "Alice Mutton\n",
      "Outback Lager\n",
      "Queso Manchego La Pastora\n",
      "Boston Crab Meat\n",
      "Raclette Courdavault\n",
      "Lakkalikööri\n",
      "Thüringer Rostbratwurst\n",
      "Mozzarella di Giovanni\n",
      "Geitost\n",
      "Mozzarella di Giovanni\n",
      "Ipoh Coffee\n",
      "Inlagd Sill\n",
      "Geitost\n",
      "Sir Rodney's Marmalade\n",
      "Gorgonzola Telino\n",
      "Mozzarella di Giovanni\n",
      "Boston Crab Meat\n",
      "Geitost\n",
      "Gorgonzola Telino\n",
      "Ikura\n",
      "Lakkalikööri\n",
      "Fløtemysost\n",
      "Mozzarella di Giovanni\n",
      "Guaraná Fantástica\n",
      "Raclette Courdavault\n",
      "Ikura\n",
      "Konbu\n",
      "Tarte au sucre\n",
      "Rössle Sauerkraut\n",
      "Gula Malacca\n",
      "Raclette Courdavault\n",
      "Vegie-spread\n",
      "Röd Kaviar\n",
      "Alice Mutton\n",
      "Guaraná Fantástica\n",
      "Pâté chinois\n",
      "Rhönbräu Klosterbier\n",
      "Teatime Chocolate Biscuits\n",
      "Guaraná Fantástica\n",
      "Steeleye Stout\n",
      "Nord-Ost Matjeshering\n",
      "Ravioli Angelo\n",
      "Genen Shouyu\n",
      "Mozzarella di Giovanni\n",
      "Teatime Chocolate Biscuits\n",
      "Camembert Pierrot\n",
      "Schoggi Schokolade\n",
      "Gula Malacca\n",
      "Camembert Pierrot\n",
      "Laughing Lumberjack Lager\n",
      "Perth Pasties\n",
      "Boston Crab Meat\n",
      "Chai\n",
      "Tarte au sucre\n",
      "Steeleye Stout\n",
      "Pavlova\n",
      "Sasquatch Ale\n",
      "Spegesild\n",
      "Scottish Longbreads\n",
      "Tourtière\n",
      "Aniseed Syrup\n",
      "Wimmers gute Semmelknödel\n",
      "Chef Anton's Gumbo Mix\n",
      "Thüringer Rostbratwurst\n",
      "Maxilaku\n",
      "Original Frankfurter grüne Soße\n",
      "Manjimup Dried Apples\n",
      "Konbu\n",
      "Gula Malacca\n",
      "Sir Rodney's Marmalade\n",
      "Carnarvon Tigers\n",
      "Guaraná Fantástica\n",
      "Vegie-spread\n",
      "Rhönbräu Klosterbier\n",
      "Camembert Pierrot\n",
      "Rhönbräu Klosterbier\n",
      "Ipoh Coffee\n",
      "Alice Mutton\n",
      "Chai\n",
      "Gnocchi di nonna Alice\n",
      "Queso Cabrales\n",
      "Pavlova\n",
      "Gudbrandsdalsost\n",
      "Chartreuse verte\n",
      "Mozzarella di Giovanni\n",
      "Chang\n",
      "Tarte au sucre\n",
      "Raclette Courdavault\n",
      "Inlagd Sill\n",
      "Teatime Chocolate Biscuits\n",
      "Outback Lager\n",
      "Louisiana Hot Spiced Okra\n",
      "Scottish Longbreads\n",
      "Gnocchi di nonna Alice\n",
      "Boston Crab Meat\n",
      "Ipoh Coffee\n",
      "Alice Mutton\n",
      "Rössle Sauerkraut\n",
      "Boston Crab Meat\n",
      "Louisiana Fiery Hot Pepper Sauce\n",
      "Scottish Longbreads\n",
      "Fløtemysost\n",
      "Raclette Courdavault\n",
      "Maxilaku\n",
      "Thüringer Rostbratwurst\n",
      "Chartreuse verte\n",
      "Carnarvon Tigers\n",
      "Nord-Ost Matjeshering\n",
      "Perth Pasties\n",
      "Tourtière\n",
      "Tarte au sucre\n",
      "Scottish Longbreads\n",
      "Outback Lager\n",
      "Gudbrandsdalsost\n",
      "Chef Anton's Cajun Seasoning\n",
      "Grandma's Boysenberry Spread\n",
      "Singaporean Hokkien Fried Mee\n",
      "Ipoh Coffee\n",
      "Fløtemysost\n",
      "Pavlova\n",
      "Tarte au sucre\n",
      "Singaporean Hokkien Fried Mee\n",
      "Gudbrandsdalsost\n",
      "Rössle Sauerkraut\n",
      "Ipoh Coffee\n",
      "Perth Pasties\n",
      "Rhönbräu Klosterbier\n",
      "Inlagd Sill\n",
      "Tarte au sucre\n",
      "Mascarpone Fabioli\n",
      "Escargots de Bourgogne\n",
      "Sasquatch Ale\n",
      "Outback Lager\n",
      "Jack's New England Clam Chowder\n",
      "Tarte au sucre\n",
      "Chai\n"
     ]
    }
   ],
   "source": [
    "filas = len(trimester)\n",
    "for i in range(0,filas):\n",
    "  print(trimester.iloc[i,1])"
   ]
  },
  {
   "cell_type": "code",
   "execution_count": 10,
   "metadata": {},
   "outputs": [
    {
     "name": "stdout",
     "output_type": "stream",
     "text": [
      "     Order ID       Product        Category  Unit Price  Quantity  \\\n",
      "0       10248  Sin producto  Grains/Cereals         9.8         1   \n",
      "1       10248  Sin producto  Dairy Products        34.8         5   \n",
      "2       10248  Sin producto  Dairy Products        14.0        12   \n",
      "3       10249  Sin producto         Produce        18.6         9   \n",
      "4       10249  Sin producto         Produce        42.4        40   \n",
      "..        ...           ...             ...         ...       ...   \n",
      "180     10315  Sin producto       Beverages        11.2        14   \n",
      "181     10315  Sin producto       Beverages        12.0        30   \n",
      "182     10316  Sin producto         Seafood         7.7        10   \n",
      "183     10316  Sin producto     Confections        39.4        70   \n",
      "184     10317  Sin producto       Beverages        14.4        20   \n",
      "\n",
      "                       Customer    Ship City Ship Country Order Date  Amount  \n",
      "0     Vins et alcools Chevalier        Reims       France 2014-08-04     9.8  \n",
      "1     Vins et alcools Chevalier        Reims       France 2014-08-04   174.0  \n",
      "2     Vins et alcools Chevalier        Reims       France 2014-08-04   168.0  \n",
      "3            Toms Spezialitäten      Münster      Germany 2014-08-05   167.4  \n",
      "4            Toms Spezialitäten      Münster      Germany 2014-08-05  1696.0  \n",
      "..                          ...          ...          ...        ...     ...  \n",
      "180              Island Trading        Cowes           UK 2014-10-27   156.8  \n",
      "181              Island Trading        Cowes           UK 2014-10-27   360.0  \n",
      "182  Rattlesnake Canyon Grocery  Albuquerque          USA 2014-10-28    77.0  \n",
      "183  Rattlesnake Canyon Grocery  Albuquerque          USA 2014-10-28  2758.0  \n",
      "184    Lonesome Pine Restaurant     Portland          USA 2014-10-31   288.0  \n",
      "\n",
      "[185 rows x 10 columns]\n"
     ]
    }
   ],
   "source": [
    "filas = len(trimester)\n",
    "for i in range(0,filas):\n",
    "  trimester.iloc[i,1] = 'Sin producto'\n",
    "print(trimester)"
   ]
  },
  {
   "cell_type": "code",
   "execution_count": 11,
   "metadata": {},
   "outputs": [
    {
     "name": "stdout",
     "output_type": "stream",
     "text": [
      "     Order ID            Product        Category  Unit Price  Quantity  \\\n",
      "0       10248       Sin producto  Grains/Cereals         9.8         1   \n",
      "1       10248       Sin producto  Dairy Products        34.8         5   \n",
      "2       10248       Sin producto  Dairy Products        14.0        12   \n",
      "3       10249  Producto Alemania         Produce        18.6         9   \n",
      "4       10249  Producto Alemania         Produce        42.4        40   \n",
      "..        ...                ...             ...         ...       ...   \n",
      "180     10315       Sin producto       Beverages        11.2        14   \n",
      "181     10315       Sin producto       Beverages        12.0        30   \n",
      "182     10316       Sin producto         Seafood         7.7        10   \n",
      "183     10316       Sin producto     Confections        39.4        70   \n",
      "184     10317       Sin producto       Beverages        14.4        20   \n",
      "\n",
      "                       Customer    Ship City Ship Country Order Date  Amount  \n",
      "0     Vins et alcools Chevalier        Reims       France 2014-08-04     9.8  \n",
      "1     Vins et alcools Chevalier        Reims       France 2014-08-04   174.0  \n",
      "2     Vins et alcools Chevalier        Reims       France 2014-08-04   168.0  \n",
      "3            Toms Spezialitäten      Münster      Germany 2014-08-05   167.4  \n",
      "4            Toms Spezialitäten      Münster      Germany 2014-08-05  1696.0  \n",
      "..                          ...          ...          ...        ...     ...  \n",
      "180              Island Trading        Cowes           UK 2014-10-27   156.8  \n",
      "181              Island Trading        Cowes           UK 2014-10-27   360.0  \n",
      "182  Rattlesnake Canyon Grocery  Albuquerque          USA 2014-10-28    77.0  \n",
      "183  Rattlesnake Canyon Grocery  Albuquerque          USA 2014-10-28  2758.0  \n",
      "184    Lonesome Pine Restaurant     Portland          USA 2014-10-31   288.0  \n",
      "\n",
      "[185 rows x 10 columns]\n"
     ]
    }
   ],
   "source": [
    "filas = len(trimester)\n",
    "for i in range(0,filas):\n",
    "  if trimester.iloc[i,7] == 'Germany':\n",
    "    trimester.iloc[i,1] = 'Producto Alemania'\n",
    "print(trimester)"
   ]
  },
  {
   "cell_type": "code",
   "execution_count": null,
   "metadata": {},
   "outputs": [],
   "source": []
  }
 ],
 "metadata": {
  "kernelspec": {
   "display_name": "Python 3.12.4 64-bit",
   "language": "python",
   "name": "python3"
  },
  "language_info": {
   "codemirror_mode": {
    "name": "ipython",
    "version": 3
   },
   "file_extension": ".py",
   "mimetype": "text/x-python",
   "name": "python",
   "nbconvert_exporter": "python",
   "pygments_lexer": "ipython3",
   "version": "3.12.4"
  },
  "orig_nbformat": 4,
  "vscode": {
   "interpreter": {
    "hash": "aee8b7b246df8f9039afb4144a1f6fd8d2ca17a180786b69acc140d282b71a49"
   }
  }
 },
 "nbformat": 4,
 "nbformat_minor": 2
}
