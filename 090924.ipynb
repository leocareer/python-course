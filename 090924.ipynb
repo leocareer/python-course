{
 "cells": [
  {
   "cell_type": "markdown",
   "metadata": {},
   "source": [
    "PRACTICA 1: PARTIENDO DEL FICHERO VENTASGROUCERY_MESES.XLSX, CARGAR LOS 3 DATAFRAMES DE LOS MESES DE AGOCTO A OCTUBRE 2014, REALIZAR LAS MODIFICATIONES NECESARIAS, DESPUES DE ANEXAR TODOS LOS DATAFRAMES EN UNO SOLO LLAMAREMOS TRIMESTRE Y RESELVEREMOS LOS SIDUIENTES ENUNCIADOS.\n",
    "CREAR LA COLUMNA AMOUNT = UNIT PRICE * QUANTITY\n",
    "CREAR LA COLUMNA ENTERPRISE = 'DELTA ENTERPRISE'\n",
    "CREAR LA COLUMNA DISCOUNT = 3.35% SOBRE EL AMOUNT, SOLO PARA LOS PEDIDOS QUE SEAN DE FRANCE O GERMANY\n",
    "VER EN UN TEXTO, LA SUMA DE DISCOUNT ('EL TOTAL DE DESCUENTO ES X')\n",
    "VER EN UN TEXTO, EL PROMEDIO DE AMOUNT, DE LOS PEDIDOS CUYA CATEGORIA = BEVERAGES ('EL PROMEDIO DE AMOUNT, DE BEVERAGES ES X')\n",
    "VER EN UN TEXTO, LA SUME DE AMOUNT, DE LOS PEDIDOS DE LA CATEGORIA SEAFOOD CUYA CANTIDAD (QUANTITY) ESTE COMPRENDIDO ENTRE 25-75 ('LA SUMA DE AMOUNT DE SEAFOOD ENTRE 25-75 ES X')"
   ]
  },
  {
   "cell_type": "code",
   "execution_count": 1,
   "metadata": {},
   "outputs": [],
   "source": [
    "import pandas as pd"
   ]
  },
  {
   "cell_type": "code",
   "execution_count": 2,
   "metadata": {},
   "outputs": [],
   "source": [
    "file = 'VentasGroucery_Meses.xlsx'\n",
    "ago14 = pd.read_excel(file, sheet_name='Ventas Agosto 2014')\n",
    "sep14 = pd.read_excel(file, sheet_name='Ventas Septiembre 2014')\n",
    "oct14 = pd.read_excel(file, sheet_name='Ventas Octubre 2014')"
   ]
  },
  {
   "cell_type": "code",
   "execution_count": 3,
   "metadata": {},
   "outputs": [
    {
     "name": "stdout",
     "output_type": "stream",
     "text": [
      "<class 'pandas.core.frame.DataFrame'>\n",
      "RangeIndex: 185 entries, 0 to 184\n",
      "Data columns (total 9 columns):\n",
      " #   Column        Non-Null Count  Dtype         \n",
      "---  ------        --------------  -----         \n",
      " 0   Order ID      185 non-null    int64         \n",
      " 1   Product       185 non-null    object        \n",
      " 2   Category      185 non-null    object        \n",
      " 3   Unit Price    185 non-null    float64       \n",
      " 4   Quantity      185 non-null    int64         \n",
      " 5   Customer      185 non-null    object        \n",
      " 6   Ship City     185 non-null    object        \n",
      " 7   Ship Country  185 non-null    object        \n",
      " 8   Order Date    185 non-null    datetime64[ns]\n",
      "dtypes: datetime64[ns](1), float64(1), int64(2), object(5)\n",
      "memory usage: 13.1+ KB\n",
      "None\n"
     ]
    }
   ],
   "source": [
    "trimester = pd.concat([ago14, sep14, oct14], ignore_index=True)\n",
    "print(trimester.info())"
   ]
  },
  {
   "cell_type": "code",
   "execution_count": 4,
   "metadata": {},
   "outputs": [
    {
     "name": "stdout",
     "output_type": "stream",
     "text": [
      "     Order ID                     Product        Category  Unit Price  \\\n",
      "61      10271                     Geitost  Dairy Products         2.0   \n",
      "85      10280        Rhönbräu Klosterbier       Beverages         6.2   \n",
      "174     10312               Perth Pasties    Meat/Poultry        26.2   \n",
      "109     10289               Aniseed Syrup      Condiments         8.0   \n",
      "86      10281  Teatime Chocolate Biscuits     Confections         7.3   \n",
      "\n",
      "     Quantity               Customer  Ship City Ship Country Order Date  \\\n",
      "61         24  Split Rail Beer & Ale     Lander          USA 2014-09-01   \n",
      "85         30     Berglunds snabbköp      Luleå       Sweden 2014-09-14   \n",
      "174        20      Die Wandernde Kuh  Stuttgart      Germany 2014-10-24   \n",
      "109        30          B's Beverages     London           UK 2014-09-26   \n",
      "86          1       Romero y tomillo     Madrid        Spain 2014-09-14   \n",
      "\n",
      "     Amount  \n",
      "61     48.0  \n",
      "85    186.0  \n",
      "174   524.0  \n",
      "109   240.0  \n",
      "86      7.3  \n"
     ]
    }
   ],
   "source": [
    "trimester['Amount'] = trimester['Unit Price']*trimester['Quantity']\n",
    "print(trimester.sample(5))"
   ]
  },
  {
   "cell_type": "code",
   "execution_count": 5,
   "metadata": {},
   "outputs": [
    {
     "ename": "NameError",
     "evalue": "name 'df' is not defined",
     "output_type": "error",
     "traceback": [
      "\u001b[0;31m---------------------------------------------------------------------------\u001b[0m",
      "\u001b[0;31mNameError\u001b[0m                                 Traceback (most recent call last)",
      "Cell \u001b[0;32mIn[5], line 1\u001b[0m\n\u001b[0;32m----> 1\u001b[0m \u001b[43mdf\u001b[49m[\u001b[38;5;124m'\u001b[39m\u001b[38;5;124mEnterprise\u001b[39m\u001b[38;5;124m'\u001b[39m] \u001b[38;5;241m=\u001b[39m \u001b[38;5;124m'\u001b[39m\u001b[38;5;124mDelta Enterprise\u001b[39m\u001b[38;5;124m'\u001b[39m\n\u001b[1;32m      2\u001b[0m \u001b[38;5;28mprint\u001b[39m(df\u001b[38;5;241m.\u001b[39msample(\u001b[38;5;241m5\u001b[39m))\n",
      "\u001b[0;31mNameError\u001b[0m: name 'df' is not defined"
     ]
    }
   ],
   "source": [
    "df['Enterprise'] = 'Delta Enterprise'\n",
    "print(df.sample(5))"
   ]
  },
  {
   "cell_type": "code",
   "execution_count": null,
   "metadata": {},
   "outputs": [
    {
     "name": "stdout",
     "output_type": "stream",
     "text": [
      "     Order ID                 Product        Category  Unit Price  Quantity  \\\n",
      "77      10277       Rössle Sauerkraut         Produce        36.4        20   \n",
      "167     10309             Fløtemysost  Dairy Products        17.2         3   \n",
      "53      10267    Raclette Courdavault  Dairy Products        44.0        70   \n",
      "152     10304                Maxilaku     Confections        16.0        30   \n",
      "71      10274  Mozzarella di Giovanni  Dairy Products        27.8         7   \n",
      "\n",
      "                         Customer    Ship City Ship Country Order Date  \\\n",
      "77         Morgenstern Gesundkost      Leipzig      Germany 2014-09-09   \n",
      "167  Hungry Owl All-Night Grocers         Cork      Ireland 2014-10-20   \n",
      "53                 Frankenversand      München      Germany 2014-08-29   \n",
      "152           Tortuga Restaurante  México D.F.       Mexico 2014-10-13   \n",
      "71      Vins et alcools Chevalier        Reims       France 2014-09-06   \n",
      "\n",
      "     Amount        Enterprise  Discount  \n",
      "77    728.0  Delta Enterprise   24.3880  \n",
      "167    51.6  Delta Enterprise    0.0000  \n",
      "53   3080.0  Delta Enterprise  103.1800  \n",
      "152   480.0  Delta Enterprise    0.0000  \n",
      "71    194.6  Delta Enterprise    6.5191  \n"
     ]
    }
   ],
   "source": [
    "trimester.loc[(trimester['Ship Country'] == 'France') | (trimester['Ship Country'] == 'Germany'), 'Discount'] = trimester['Amount'] * 0.0335\n",
    "trimester['Discount'] = trimester['Discount'].fillna(0)\n",
    "print(trimester.sample(5))"
   ]
  },
  {
   "cell_type": "code",
   "execution_count": null,
   "metadata": {},
   "outputs": [
    {
     "name": "stdout",
     "output_type": "stream",
     "text": [
      "     Order ID                Product        Category  Unit Price  Quantity  \\\n",
      "91      10283           Genen Shouyu      Condiments        12.4        20   \n",
      "144     10302            Ipoh Coffee       Beverages        36.8        12   \n",
      "35      10260         Ravioli Angelo  Grains/Cereals        15.6        50   \n",
      "156     10306  Nord-Ost Matjeshering         Seafood        20.7        10   \n",
      "57      10269                Geitost  Dairy Products         2.0        60   \n",
      "\n",
      "                 Customer     Ship City Ship Country Order Date  Amount  \\\n",
      "91      LILA-Supermercado  Barquisimeto    Venezuela 2014-09-16   248.0   \n",
      "144      Suprêmes délices     Charleroi      Belgium 2014-10-11   441.6   \n",
      "35     Ottilies Käseladen          Köln      Germany 2014-08-19   780.0   \n",
      "156      Romero y tomillo        Madrid        Spain 2014-10-17   207.0   \n",
      "57   White Clover Markets       Seattle          USA 2014-08-31   120.0   \n",
      "\n",
      "     Discount  \n",
      "91       0.00  \n",
      "144      0.00  \n",
      "35      26.13  \n",
      "156      0.00  \n",
      "57       0.00  \n"
     ]
    }
   ],
   "source": [
    "def descuento(pais):\n",
    "  if (pais == 'France')|(pais == 'Germany'):\n",
    "    return 0.0335\n",
    "  else:\n",
    "    return 0\n",
    "\n",
    "trimester['Discount'] = trimester['Amount']*trimester['Ship Country'].apply(descuento)\n",
    "print(trimester.sample(5))"
   ]
  },
  {
   "cell_type": "code",
   "execution_count": null,
   "metadata": {},
   "outputs": [
    {
     "name": "stdout",
     "output_type": "stream",
     "text": [
      "EL TOTAL DE DESCUENTO ES 844.16\n"
     ]
    }
   ],
   "source": [
    "print('EL TOTAL DE DESCUENTO ES', round(trimester['Discount'].sum(),2))"
   ]
  },
  {
   "cell_type": "code",
   "execution_count": null,
   "metadata": {},
   "outputs": [
    {
     "name": "stdout",
     "output_type": "stream",
     "text": [
      "EL PROMEDIO DE AMOUNT, DE BEVERAGES ES 348.87\n"
     ]
    }
   ],
   "source": [
    "trimester_beverages = trimester['Category']=='Beverages'\n",
    "print('EL PROMEDIO DE AMOUNT, DE BEVERAGES ES', round(trimester[trimester_beverages]['Amount'].mean(),2))"
   ]
  },
  {
   "cell_type": "code",
   "execution_count": null,
   "metadata": {},
   "outputs": [
    {
     "name": "stdout",
     "output_type": "stream",
     "text": [
      "EL PROMEDIO DE AMOUNT, DE BEVERAGES ES 348.87\n"
     ]
    }
   ],
   "source": [
    "print('EL PROMEDIO DE AMOUNT, DE BEVERAGES ES', round(trimester[trimester['Category']=='Beverages']['Amount'].mean(),2))"
   ]
  },
  {
   "cell_type": "code",
   "execution_count": null,
   "metadata": {},
   "outputs": [
    {
     "name": "stdout",
     "output_type": "stream",
     "text": [
      "LA SUMA DE AMOUNT DE SEAFOOD ENTRE 25-75 ES 7539.5\n"
     ]
    }
   ],
   "source": [
    "trimester_seafood = (trimester['Quantity']>=25)&(trimester['Quantity']<=75)&(trimester['Category']=='Seafood')\n",
    "print('LA SUMA DE AMOUNT DE SEAFOOD ENTRE 25-75 ES', round(trimester[trimester_seafood]['Amount'].sum(),2))"
   ]
  },
  {
   "cell_type": "markdown",
   "metadata": {},
   "source": [
    "EL OBJETO iloc EN PANDAS, ME PERMITE ACCEDER A FILAS Y COLUMNAS DE UN DATAFRAME UTILIZANDO LOS INDICES NUMERICOS (BASADO EN POSICIONES), INTERGER LOCATION dataframe.iloc[fila, columna]\n",
    "ACCESO A UNA POSITION, ACCESO UN RANGO (SLICING), NEGATIVOS, DESDE EL FINAL"
   ]
  },
  {
   "cell_type": "code",
   "execution_count": null,
   "metadata": {},
   "outputs": [
    {
     "name": "stdout",
     "output_type": "stream",
     "text": [
      "Produce\n",
      "   Order ID                        Product        Category  Unit Price  \\\n",
      "0     10248  Singaporean Hokkien Fried Mee  Grains/Cereals         9.8   \n",
      "1     10248         Mozzarella di Giovanni  Dairy Products        34.8   \n",
      "2     10248                 Queso Cabrales  Dairy Products        14.0   \n",
      "3     10249                           Tofu         Produce        18.6   \n",
      "4     10249          Manjimup Dried Apples         Produce        42.4   \n",
      "\n",
      "   Quantity                   Customer Ship City Ship Country Order Date  \\\n",
      "0         1  Vins et alcools Chevalier     Reims       France 2014-08-04   \n",
      "1         5  Vins et alcools Chevalier     Reims       France 2014-08-04   \n",
      "2        12  Vins et alcools Chevalier     Reims       France 2014-08-04   \n",
      "3         9         Toms Spezialitäten   Münster      Germany 2014-08-05   \n",
      "4        40         Toms Spezialitäten   Münster      Germany 2014-08-05   \n",
      "\n",
      "   Amount  Discount  \n",
      "0     9.8    0.3283  \n",
      "1   174.0    5.8290  \n",
      "2   168.0    5.6280  \n",
      "3   167.4    5.6079  \n",
      "4  1696.0   56.8160  \n"
     ]
    }
   ],
   "source": [
    "print(trimester.iloc[4, 2])\n",
    "print(trimester.head(5))"
   ]
  },
  {
   "cell_type": "code",
   "execution_count": null,
   "metadata": {},
   "outputs": [
    {
     "name": "stdout",
     "output_type": "stream",
     "text": [
      "   Order ID                        Product        Category  Unit Price  \\\n",
      "0     10248  Singaporean Hokkien Fried Mee  Grains/Cereals         9.8   \n",
      "1     10248                   Sin producto  Dairy Products        34.8   \n",
      "2     10248                 Queso Cabrales  Dairy Products        14.0   \n",
      "3     10249                           Tofu         Produce        18.6   \n",
      "4     10249          Manjimup Dried Apples         Produce        42.4   \n",
      "\n",
      "   Quantity                   Customer Ship City Ship Country Order Date  \\\n",
      "0         1  Vins et alcools Chevalier     Reims       France 2014-08-04   \n",
      "1         5  Vins et alcools Chevalier     Reims       France 2014-08-04   \n",
      "2        12  Vins et alcools Chevalier     Reims       France 2014-08-04   \n",
      "3         9         Toms Spezialitäten   Münster      Germany 2014-08-05   \n",
      "4        40         Toms Spezialitäten   Münster      Germany 2014-08-05   \n",
      "\n",
      "   Amount  Discount  \n",
      "0     9.8    0.3283  \n",
      "1   174.0    5.8290  \n",
      "2   168.0    5.6280  \n",
      "3   167.4    5.6079  \n",
      "4  1696.0   56.8160  \n"
     ]
    }
   ],
   "source": [
    "trimester.iloc[1,1] = 'Sin producto'\n",
    "print(trimester.head(5))"
   ]
  },
  {
   "cell_type": "code",
   "execution_count": null,
   "metadata": {},
   "outputs": [
    {
     "name": "stdout",
     "output_type": "stream",
     "text": [
      "                    Customer                   Customer  \\\n",
      "0  Vins et alcools Chevalier  Vins et alcools Chevalier   \n",
      "1  Vins et alcools Chevalier  Vins et alcools Chevalier   \n",
      "2  Vins et alcools Chevalier  Vins et alcools Chevalier   \n",
      "3         Toms Spezialitäten         Toms Spezialitäten   \n",
      "4         Toms Spezialitäten         Toms Spezialitäten   \n",
      "\n",
      "                    Customer  \n",
      "0  Vins et alcools Chevalier  \n",
      "1  Vins et alcools Chevalier  \n",
      "2  Vins et alcools Chevalier  \n",
      "3         Toms Spezialitäten  \n",
      "4         Toms Spezialitäten  \n"
     ]
    }
   ],
   "source": [
    "print(trimester.iloc[:,[2,2,2]].head(5))"
   ]
  },
  {
   "cell_type": "code",
   "execution_count": 6,
   "metadata": {},
   "outputs": [
    {
     "name": "stdout",
     "output_type": "stream",
     "text": [
      "Index(['Order ID', 'Product', 'Category', 'Unit Price', 'Quantity', 'Customer',\n",
      "       'Ship City', 'Ship Country', 'Order Date', 'Amount'],\n",
      "      dtype='object')\n"
     ]
    }
   ],
   "source": [
    "print(trimester.columns)"
   ]
  },
  {
   "cell_type": "code",
   "execution_count": 7,
   "metadata": {},
   "outputs": [
    {
     "data": {
      "text/plain": [
       "10"
      ]
     },
     "execution_count": 7,
     "metadata": {},
     "output_type": "execute_result"
    }
   ],
   "source": [
    "len(trimester.columns)"
   ]
  },
  {
   "cell_type": "code",
   "execution_count": 8,
   "metadata": {},
   "outputs": [
    {
     "data": {
      "text/plain": [
       "185"
      ]
     },
     "execution_count": 8,
     "metadata": {},
     "output_type": "execute_result"
    }
   ],
   "source": [
    "len(trimester)"
   ]
  },
  {
   "cell_type": "code",
   "execution_count": 9,
   "metadata": {},
   "outputs": [
    {
     "name": "stdout",
     "output_type": "stream",
     "text": [
      "Singaporean Hokkien Fried Mee\n",
      "Mozzarella di Giovanni\n",
      "Queso Cabrales\n",
      "Tofu\n",
      "Manjimup Dried Apples\n",
      "Louisiana Fiery Hot Pepper Sauce\n",
      "Jack's New England Clam Chowder\n",
      "Manjimup Dried Apples\n",
      "Louisiana Fiery Hot Pepper Sauce\n",
      "Gustaf's Knäckebröd\n",
      "Ravioli Angelo\n",
      "Sir Rodney's Marmalade\n",
      "Geitost\n",
      "Camembert Pierrot\n",
      "Maxilaku\n",
      "Chartreuse verte\n",
      "Gorgonzola Telino\n",
      "Pâté chinois\n",
      "Longlife Tofu\n",
      "Guaraná Fantástica\n",
      "Raclette Courdavault\n",
      "Chang\n",
      "Pavlova\n",
      "Inlagd Sill\n",
      "Perth Pasties\n",
      "Original Frankfurter grüne Soße\n",
      "Schoggi Schokolade\n",
      "Chartreuse verte\n",
      "Original Frankfurter grüne Soße\n",
      "Chang\n",
      "Chef Anton's Gumbo Mix\n",
      "Mascarpone Fabioli\n",
      "Sir Rodney's Scones\n",
      "Gravad lax\n",
      "Jack's New England Clam Chowder\n",
      "Ravioli Angelo\n",
      "Tarte au sucre\n",
      "Outback Lager\n",
      "Sir Rodney's Scones\n",
      "Steeleye Stout\n",
      "Chef Anton's Gumbo Mix\n",
      "Uncle Bob's Organic Dried Pears\n",
      "Gnocchi di nonna Alice\n",
      "Pavlova\n",
      "Guaraná Fantástica\n",
      "Nord-Ost Matjeshering\n",
      "Longlife Tofu\n",
      "Chang\n",
      "Jack's New England Clam Chowder\n",
      "Alice Mutton\n",
      "Outback Lager\n",
      "Queso Manchego La Pastora\n",
      "Boston Crab Meat\n",
      "Raclette Courdavault\n",
      "Lakkalikööri\n",
      "Thüringer Rostbratwurst\n",
      "Mozzarella di Giovanni\n",
      "Geitost\n",
      "Mozzarella di Giovanni\n",
      "Ipoh Coffee\n",
      "Inlagd Sill\n",
      "Geitost\n",
      "Sir Rodney's Marmalade\n",
      "Gorgonzola Telino\n",
      "Mozzarella di Giovanni\n",
      "Boston Crab Meat\n",
      "Geitost\n",
      "Gorgonzola Telino\n",
      "Ikura\n",
      "Lakkalikööri\n",
      "Fløtemysost\n",
      "Mozzarella di Giovanni\n",
      "Guaraná Fantástica\n",
      "Raclette Courdavault\n",
      "Ikura\n",
      "Konbu\n",
      "Tarte au sucre\n",
      "Rössle Sauerkraut\n",
      "Gula Malacca\n",
      "Raclette Courdavault\n",
      "Vegie-spread\n",
      "Röd Kaviar\n",
      "Alice Mutton\n",
      "Guaraná Fantástica\n",
      "Pâté chinois\n",
      "Rhönbräu Klosterbier\n",
      "Teatime Chocolate Biscuits\n",
      "Guaraná Fantástica\n",
      "Steeleye Stout\n",
      "Nord-Ost Matjeshering\n",
      "Ravioli Angelo\n",
      "Genen Shouyu\n",
      "Mozzarella di Giovanni\n",
      "Teatime Chocolate Biscuits\n",
      "Camembert Pierrot\n",
      "Schoggi Schokolade\n",
      "Gula Malacca\n",
      "Camembert Pierrot\n",
      "Laughing Lumberjack Lager\n",
      "Perth Pasties\n",
      "Boston Crab Meat\n",
      "Chai\n",
      "Tarte au sucre\n",
      "Steeleye Stout\n",
      "Pavlova\n",
      "Sasquatch Ale\n",
      "Spegesild\n",
      "Scottish Longbreads\n",
      "Tourtière\n",
      "Aniseed Syrup\n",
      "Wimmers gute Semmelknödel\n",
      "Chef Anton's Gumbo Mix\n",
      "Thüringer Rostbratwurst\n",
      "Maxilaku\n",
      "Original Frankfurter grüne Soße\n",
      "Manjimup Dried Apples\n",
      "Konbu\n",
      "Gula Malacca\n",
      "Sir Rodney's Marmalade\n",
      "Carnarvon Tigers\n",
      "Guaraná Fantástica\n",
      "Vegie-spread\n",
      "Rhönbräu Klosterbier\n",
      "Camembert Pierrot\n",
      "Rhönbräu Klosterbier\n",
      "Ipoh Coffee\n",
      "Alice Mutton\n",
      "Chai\n",
      "Gnocchi di nonna Alice\n",
      "Queso Cabrales\n",
      "Pavlova\n",
      "Gudbrandsdalsost\n",
      "Chartreuse verte\n",
      "Mozzarella di Giovanni\n",
      "Chang\n",
      "Tarte au sucre\n",
      "Raclette Courdavault\n",
      "Inlagd Sill\n",
      "Teatime Chocolate Biscuits\n",
      "Outback Lager\n",
      "Louisiana Hot Spiced Okra\n",
      "Scottish Longbreads\n",
      "Gnocchi di nonna Alice\n",
      "Boston Crab Meat\n",
      "Ipoh Coffee\n",
      "Alice Mutton\n",
      "Rössle Sauerkraut\n",
      "Boston Crab Meat\n",
      "Louisiana Fiery Hot Pepper Sauce\n",
      "Scottish Longbreads\n",
      "Fløtemysost\n",
      "Raclette Courdavault\n",
      "Maxilaku\n",
      "Thüringer Rostbratwurst\n",
      "Chartreuse verte\n",
      "Carnarvon Tigers\n",
      "Nord-Ost Matjeshering\n",
      "Perth Pasties\n",
      "Tourtière\n",
      "Tarte au sucre\n",
      "Scottish Longbreads\n",
      "Outback Lager\n",
      "Gudbrandsdalsost\n",
      "Chef Anton's Cajun Seasoning\n",
      "Grandma's Boysenberry Spread\n",
      "Singaporean Hokkien Fried Mee\n",
      "Ipoh Coffee\n",
      "Fløtemysost\n",
      "Pavlova\n",
      "Tarte au sucre\n",
      "Singaporean Hokkien Fried Mee\n",
      "Gudbrandsdalsost\n",
      "Rössle Sauerkraut\n",
      "Ipoh Coffee\n",
      "Perth Pasties\n",
      "Rhönbräu Klosterbier\n",
      "Inlagd Sill\n",
      "Tarte au sucre\n",
      "Mascarpone Fabioli\n",
      "Escargots de Bourgogne\n",
      "Sasquatch Ale\n",
      "Outback Lager\n",
      "Jack's New England Clam Chowder\n",
      "Tarte au sucre\n",
      "Chai\n"
     ]
    }
   ],
   "source": [
    "filas = len(trimester)\n",
    "for i in range(0,filas):\n",
    "  print(trimester.iloc[i,1])"
   ]
  },
  {
   "cell_type": "code",
   "execution_count": 10,
   "metadata": {},
   "outputs": [
    {
     "name": "stdout",
     "output_type": "stream",
     "text": [
      "     Order ID       Product        Category  Unit Price  Quantity  \\\n",
      "0       10248  Sin producto  Grains/Cereals         9.8         1   \n",
      "1       10248  Sin producto  Dairy Products        34.8         5   \n",
      "2       10248  Sin producto  Dairy Products        14.0        12   \n",
      "3       10249  Sin producto         Produce        18.6         9   \n",
      "4       10249  Sin producto         Produce        42.4        40   \n",
      "..        ...           ...             ...         ...       ...   \n",
      "180     10315  Sin producto       Beverages        11.2        14   \n",
      "181     10315  Sin producto       Beverages        12.0        30   \n",
      "182     10316  Sin producto         Seafood         7.7        10   \n",
      "183     10316  Sin producto     Confections        39.4        70   \n",
      "184     10317  Sin producto       Beverages        14.4        20   \n",
      "\n",
      "                       Customer    Ship City Ship Country Order Date  Amount  \n",
      "0     Vins et alcools Chevalier        Reims       France 2014-08-04     9.8  \n",
      "1     Vins et alcools Chevalier        Reims       France 2014-08-04   174.0  \n",
      "2     Vins et alcools Chevalier        Reims       France 2014-08-04   168.0  \n",
      "3            Toms Spezialitäten      Münster      Germany 2014-08-05   167.4  \n",
      "4            Toms Spezialitäten      Münster      Germany 2014-08-05  1696.0  \n",
      "..                          ...          ...          ...        ...     ...  \n",
      "180              Island Trading        Cowes           UK 2014-10-27   156.8  \n",
      "181              Island Trading        Cowes           UK 2014-10-27   360.0  \n",
      "182  Rattlesnake Canyon Grocery  Albuquerque          USA 2014-10-28    77.0  \n",
      "183  Rattlesnake Canyon Grocery  Albuquerque          USA 2014-10-28  2758.0  \n",
      "184    Lonesome Pine Restaurant     Portland          USA 2014-10-31   288.0  \n",
      "\n",
      "[185 rows x 10 columns]\n"
     ]
    }
   ],
   "source": [
    "filas = len(trimester)\n",
    "for i in range(0,filas):\n",
    "  trimester.iloc[i,1] = 'Sin producto'\n",
    "print(trimester)"
   ]
  },
  {
   "cell_type": "code",
   "execution_count": 11,
   "metadata": {},
   "outputs": [
    {
     "name": "stdout",
     "output_type": "stream",
     "text": [
      "     Order ID            Product        Category  Unit Price  Quantity  \\\n",
      "0       10248       Sin producto  Grains/Cereals         9.8         1   \n",
      "1       10248       Sin producto  Dairy Products        34.8         5   \n",
      "2       10248       Sin producto  Dairy Products        14.0        12   \n",
      "3       10249  Producto Alemania         Produce        18.6         9   \n",
      "4       10249  Producto Alemania         Produce        42.4        40   \n",
      "..        ...                ...             ...         ...       ...   \n",
      "180     10315       Sin producto       Beverages        11.2        14   \n",
      "181     10315       Sin producto       Beverages        12.0        30   \n",
      "182     10316       Sin producto         Seafood         7.7        10   \n",
      "183     10316       Sin producto     Confections        39.4        70   \n",
      "184     10317       Sin producto       Beverages        14.4        20   \n",
      "\n",
      "                       Customer    Ship City Ship Country Order Date  Amount  \n",
      "0     Vins et alcools Chevalier        Reims       France 2014-08-04     9.8  \n",
      "1     Vins et alcools Chevalier        Reims       France 2014-08-04   174.0  \n",
      "2     Vins et alcools Chevalier        Reims       France 2014-08-04   168.0  \n",
      "3            Toms Spezialitäten      Münster      Germany 2014-08-05   167.4  \n",
      "4            Toms Spezialitäten      Münster      Germany 2014-08-05  1696.0  \n",
      "..                          ...          ...          ...        ...     ...  \n",
      "180              Island Trading        Cowes           UK 2014-10-27   156.8  \n",
      "181              Island Trading        Cowes           UK 2014-10-27   360.0  \n",
      "182  Rattlesnake Canyon Grocery  Albuquerque          USA 2014-10-28    77.0  \n",
      "183  Rattlesnake Canyon Grocery  Albuquerque          USA 2014-10-28  2758.0  \n",
      "184    Lonesome Pine Restaurant     Portland          USA 2014-10-31   288.0  \n",
      "\n",
      "[185 rows x 10 columns]\n"
     ]
    }
   ],
   "source": [
    "filas = len(trimester)\n",
    "for i in range(0,filas):\n",
    "  if trimester.iloc[i,7] == 'Germany':\n",
    "    trimester.iloc[i,1] = 'Producto Alemania'\n",
    "print(trimester)"
   ]
  },
  {
   "cell_type": "code",
   "execution_count": 3,
   "metadata": {},
   "outputs": [
    {
     "name": "stdout",
     "output_type": "stream",
     "text": [
      "   col1  col2\n",
      "0    15    10\n",
      "1    28    20\n",
      "2    66    30\n",
      "3    34    40\n"
     ]
    }
   ],
   "source": [
    "data = {'col1': [15,28,66,34],\n",
    "        'col2': [10,20,30,40]}\n",
    "df = pd.DataFrame(data)\n",
    "print(df)"
   ]
  },
  {
   "cell_type": "code",
   "execution_count": 4,
   "metadata": {},
   "outputs": [
    {
     "name": "stdout",
     "output_type": "stream",
     "text": [
      "   col3  col4\n",
      "0    15    10\n",
      "1    28    20\n",
      "2    66    30\n",
      "3    34    40\n"
     ]
    }
   ],
   "source": [
    "data = {'col3': [15,28,66,34],\n",
    "        'col4': [10,20,30,40]}\n",
    "df2 = pd.DataFrame(data)\n",
    "print(df2)"
   ]
  },
  {
   "cell_type": "code",
   "execution_count": 5,
   "metadata": {},
   "outputs": [
    {
     "name": "stdout",
     "output_type": "stream",
     "text": [
      "   col1  col2  col3  col4\n",
      "0  15.0  10.0   NaN   NaN\n",
      "1  28.0  20.0   NaN   NaN\n",
      "2  66.0  30.0   NaN   NaN\n",
      "3  34.0  40.0   NaN   NaN\n",
      "0   NaN   NaN  15.0  10.0\n",
      "1   NaN   NaN  28.0  20.0\n",
      "2   NaN   NaN  66.0  30.0\n",
      "3   NaN   NaN  34.0  40.0\n"
     ]
    }
   ],
   "source": [
    "resultado = pd.concat([df,df2])\n",
    "print(resultado)"
   ]
  },
  {
   "cell_type": "code",
   "execution_count": 6,
   "metadata": {},
   "outputs": [
    {
     "name": "stdout",
     "output_type": "stream",
     "text": [
      "   col1  col2\n",
      "0    15    10\n",
      "1    28    20\n",
      "2    66    30\n",
      "3    34    40\n",
      "0    15    10\n",
      "1    28    20\n",
      "2    66    30\n",
      "3    34    40\n"
     ]
    }
   ],
   "source": [
    "df2 = df2.rename(columns={'col3': 'col1', 'col4': 'col2'})\n",
    "resultado = pd.concat([df,df2])\n",
    "print(resultado)"
   ]
  },
  {
   "cell_type": "code",
   "execution_count": 7,
   "metadata": {},
   "outputs": [
    {
     "name": "stdout",
     "output_type": "stream",
     "text": [
      "   col1  col2\n",
      "0    15    10\n",
      "1    28    20\n",
      "2    66    30\n",
      "3    34    40\n",
      "0    15    10\n",
      "1    28    20\n",
      "2    66    30\n",
      "3    34    40\n"
     ]
    }
   ],
   "source": [
    "data = {'col3': [15,28,66,34],\n",
    "        'col4': [10,20,30,40]}\n",
    "df2 = pd.DataFrame(data)\n",
    "df2.columns = df.columns\n",
    "resultado = pd.concat([df,df2])\n",
    "print(resultado)"
   ]
  },
  {
   "cell_type": "markdown",
   "metadata": {},
   "source": [
    "PRACTICA 2: APROVECHANDO EL DATAFRAME TRIMESTRE, VAMOS A DESCARGAR DE GITHUB EL FICHERO VentasGroucery_Meses.xlsx, CALCULAR EL AMOUNT EN NOV-DEC ANTES DE ANEXAR EL DATAFRAME TRIMESTRE CON LOS MESES DE NOVIEMBRE + DICEMBRE (LLAMAREMOS TRIMESTRE2), CAMBIAR EL ORDEN DE LAS COLUMNAS, PARA VER LA ULTIMA LA PRIMERA. MEDIANTE UN BUCLE FOR RECORRER TODOS LOS REGISTROS DE TRIMESTRE2 Y MODIFICAR EL CAMPO DISCOUNT, CALCULAREMOS UN 2, 75% SOBRE AMOUNT, SI EL AMOUNT ES >250 Y NO TENGA DESCUENTO POR SER DE FRANCE O GERMANY. VER LOS PRIMEROS 20 REGISTROS DEL DATAFRAME TRIMESTRE2"
   ]
  },
  {
   "cell_type": "code",
   "execution_count": 5,
   "metadata": {},
   "outputs": [
    {
     "name": "stdout",
     "output_type": "stream",
     "text": [
      "<class 'pandas.core.frame.DataFrame'>\n",
      "RangeIndex: 138 entries, 0 to 137\n",
      "Data columns (total 9 columns):\n",
      " #   Column         Non-Null Count  Dtype         \n",
      "---  ------         --------------  -----         \n",
      " 0   IdPedido       138 non-null    int64         \n",
      " 1   Producto       138 non-null    object        \n",
      " 2   Categoría      138 non-null    object        \n",
      " 3   Precio Unidad  138 non-null    float64       \n",
      " 4   Cantidad       138 non-null    int64         \n",
      " 5   Cliente        138 non-null    object        \n",
      " 6   Ciudad         138 non-null    object        \n",
      " 7   País           138 non-null    object        \n",
      " 8   Fecha pedido   138 non-null    datetime64[ns]\n",
      "dtypes: datetime64[ns](1), float64(1), int64(2), object(5)\n",
      "memory usage: 9.8+ KB\n",
      "None\n"
     ]
    }
   ],
   "source": [
    "file = 'VentasGroucery Nov-Dic.xlsx'\n",
    "nov14 = pd.read_excel(file, sheet_name='Ventas Noviembre 2014')\n",
    "dic14 = pd.read_excel(file, sheet_name='Ventas Diciembre 2014')\n",
    "trimester2 = pd.concat([nov14, dic14], ignore_index=True)\n",
    "print(trimester2.info())"
   ]
  },
  {
   "cell_type": "code",
   "execution_count": 6,
   "metadata": {},
   "outputs": [
    {
     "name": "stdout",
     "output_type": "stream",
     "text": [
      "     IdPedido                Producto       Categoría  Precio Unidad  \\\n",
      "5       10272  Mozzarella di Giovanni  Dairy Products           27.8   \n",
      "23      10279            Alice Mutton    Meat/Poultry           31.2   \n",
      "131     10293            Vegie-spread      Condiments           35.1   \n",
      "61      10293      Guaraná Fantástica       Beverages            3.6   \n",
      "99      10282   Nord-Ost Matjeshering         Seafood           20.7   \n",
      "\n",
      "     Cantidad                     Cliente           Ciudad     País  \\\n",
      "5          24  Rattlesnake Canyon Grocery      Albuquerque      USA   \n",
      "23         15         Lehmanns Marktstand  Frankfurt a.M.   Germany   \n",
      "131         5         Tortuga Restaurante      México D.F.   Mexico   \n",
      "61         10         Tortuga Restaurante      México D.F.   Mexico   \n",
      "99          6            Romero y tomillo           Madrid    Spain   \n",
      "\n",
      "    Fecha pedido  Amount  \n",
      "5     2014-11-02   667.2  \n",
      "23    2014-11-13   468.0  \n",
      "131   2014-12-29   175.5  \n",
      "61    2014-11-29    36.0  \n",
      "99    2014-12-15   124.2  \n"
     ]
    }
   ],
   "source": [
    "trimester2['Amount'] = trimester2['Precio Unidad']*trimester2['Cantidad']\n",
    "print(trimester2.sample(5))"
   ]
  },
  {
   "cell_type": "code",
   "execution_count": 7,
   "metadata": {},
   "outputs": [
    {
     "name": "stdout",
     "output_type": "stream",
     "text": [
      "     Order ID                 Product        Category  Unit Price  Quantity  \\\n",
      "121     10293            Vegie-spread      Condiments        35.1         5   \n",
      "21      10255                   Chang       Beverages        15.2        20   \n",
      "178     10314      Mascarpone Fabioli  Dairy Products        25.6        40   \n",
      "155     10305        Carnarvon Tigers         Seafood        50.0        25   \n",
      "11      10252  Sir Rodney's Marmalade     Confections        64.8        40   \n",
      "\n",
      "                       Customer    Ship City Ship Country Order Date  Amount  \n",
      "121         Tortuga Restaurante  México D.F.       Mexico 2014-09-29   175.5  \n",
      "21           Richter Supermarkt       Genève  Switzerland 2014-08-12   304.0  \n",
      "178  Rattlesnake Canyon Grocery  Albuquerque          USA 2014-10-26  1024.0  \n",
      "155      Old World Delicatessen    Anchorage          USA 2014-10-14  1250.0  \n",
      "11             Suprêmes délices    Charleroi      Belgium 2014-08-09  2592.0  \n"
     ]
    }
   ],
   "source": [
    "print(trimester.sample(5))"
   ]
  },
  {
   "cell_type": "code",
   "execution_count": 8,
   "metadata": {},
   "outputs": [
    {
     "name": "stdout",
     "output_type": "stream",
     "text": [
      "     Order ID                          Product        Category  Unit Price  \\\n",
      "110     10285                 Boston Crab Meat         Seafood        14.7   \n",
      "77      10273                Gorgonzola Telino  Dairy Products        10.0   \n",
      "63      10293             Rhönbräu Klosterbier       Beverages         6.2   \n",
      "112     10286                   Tarte au sucre     Confections        39.4   \n",
      "124     10290  Original Frankfurter grüne Soße      Condiments        10.4   \n",
      "\n",
      "     Quantity             Customer    Ship City Ship Country Order Date  \\\n",
      "110        40           QUICK-Stop    Cunewalde      Germany 2014-12-20   \n",
      "77         15           QUICK-Stop    Cunewalde      Germany 2014-12-05   \n",
      "63          6  Tortuga Restaurante  México D.F.       Mexico 2014-11-29   \n",
      "112        40           QUICK-Stop    Cunewalde      Germany 2014-12-21   \n",
      "124        10     Comércio Mineiro    São Paulo       Brazil 2014-12-27   \n",
      "\n",
      "     Amount  \n",
      "110   588.0  \n",
      "77    150.0  \n",
      "63     37.2  \n",
      "112  1576.0  \n",
      "124   104.0  \n"
     ]
    }
   ],
   "source": [
    "trimester2 = trimester2.rename(columns={'IdPedido': 'Order ID', \n",
    "                                        'Producto': 'Product', \n",
    "                                        'Categoría': 'Category', \n",
    "                                        'Precio Unidad': 'Unit Price',\n",
    "                                        'Cantidad': 'Quantity',\n",
    "                                        'Cliente': 'Customer',\n",
    "                                        'Ciudad': 'Ship City',\n",
    "                                        'País': 'Ship Country',\n",
    "                                        'Fecha pedido': 'Order Date'})\n",
    "print(trimester2.sample(5))"
   ]
  },
  {
   "cell_type": "code",
   "execution_count": 9,
   "metadata": {},
   "outputs": [
    {
     "name": "stdout",
     "output_type": "stream",
     "text": [
      "<class 'pandas.core.frame.DataFrame'>\n",
      "Index: 323 entries, 0 to 137\n",
      "Data columns (total 10 columns):\n",
      " #   Column        Non-Null Count  Dtype         \n",
      "---  ------        --------------  -----         \n",
      " 0   Order ID      323 non-null    int64         \n",
      " 1   Product       323 non-null    object        \n",
      " 2   Category      323 non-null    object        \n",
      " 3   Unit Price    323 non-null    float64       \n",
      " 4   Quantity      323 non-null    int64         \n",
      " 5   Customer      323 non-null    object        \n",
      " 6   Ship City     323 non-null    object        \n",
      " 7   Ship Country  323 non-null    object        \n",
      " 8   Order Date    323 non-null    datetime64[ns]\n",
      " 9   Amount        323 non-null    float64       \n",
      "dtypes: datetime64[ns](1), float64(2), int64(2), object(5)\n",
      "memory usage: 27.8+ KB\n",
      "None\n"
     ]
    }
   ],
   "source": [
    "year = pd.concat([trimester,trimester2])\n",
    "print(year.info())"
   ]
  },
  {
   "cell_type": "code",
   "execution_count": 10,
   "metadata": {},
   "outputs": [
    {
     "name": "stdout",
     "output_type": "stream",
     "text": [
      "     Order ID               Product        Category  Unit Price  Quantity  \\\n",
      "123     10294     Camembert Pierrot  Dairy Products        27.2        21   \n",
      "37      10260         Outback Lager       Beverages        12.0        21   \n",
      "118     10288             Tourtière    Meat/Poultry         5.9        10   \n",
      "90      10282        Ravioli Angelo  Grains/Cereals        15.6         2   \n",
      "20      10278  Raclette Courdavault  Dairy Products        44.0        15   \n",
      "\n",
      "                       Customer      Ship City Ship Country Order Date  \\\n",
      "123  Rattlesnake Canyon Grocery    Albuquerque          USA 2014-09-30   \n",
      "37           Ottilies Käseladen           Köln      Germany 2014-08-19   \n",
      "118          Reggiani Caseifici  Reggio Emilia        Italy 2014-12-23   \n",
      "90             Romero y tomillo         Madrid        Spain 2014-09-15   \n",
      "20           Berglunds snabbköp          Luleå       Sweden 2014-11-12   \n",
      "\n",
      "     Amount  Discount  \n",
      "123   571.2     0.000  \n",
      "37    252.0     8.442  \n",
      "118    59.0     0.000  \n",
      "90     31.2     0.000  \n",
      "20    660.0     0.000  \n"
     ]
    }
   ],
   "source": [
    "def descuento(pais):\n",
    "  if (pais == 'France')|(pais == 'Germany'):\n",
    "    return 0.0335\n",
    "  else:\n",
    "    return 0\n",
    "\n",
    "year['Discount'] = year['Amount']*year['Ship Country'].apply(descuento)\n",
    "print(year.sample(5))"
   ]
  },
  {
   "cell_type": "code",
   "execution_count": 13,
   "metadata": {},
   "outputs": [
    {
     "name": "stdout",
     "output_type": "stream",
     "text": [
      "     Order ID           Product      Category  Unit Price  Quantity  \\\n",
      "75      10273  Boston Crab Meat       Seafood        14.7        60   \n",
      "106     10284      Gula Malacca    Condiments        15.5        21   \n",
      "21      10255             Chang     Beverages        15.2        20   \n",
      "94      10280      Pâté chinois  Meat/Poultry        19.2        20   \n",
      "166     10309       Ipoh Coffee     Beverages        36.8        20   \n",
      "\n",
      "                         Customer        Ship City Ship Country Order Date  \\\n",
      "75                     QUICK-Stop        Cunewalde      Germany 2014-12-05   \n",
      "106           Lehmanns Marktstand  Frankfurt a.M.       Germany 2014-12-19   \n",
      "21             Richter Supermarkt           Genève  Switzerland 2014-08-12   \n",
      "94             Berglunds snabbköp            Luleå       Sweden 2014-12-14   \n",
      "166  Hungry Owl All-Night Grocers             Cork      Ireland 2014-10-20   \n",
      "\n",
      "     Amount  Discount  \n",
      "75    882.0  24.25500  \n",
      "106   325.5   8.95125  \n",
      "21    304.0   8.36000  \n",
      "94    384.0  10.56000  \n",
      "166   736.0  20.24000  \n"
     ]
    }
   ],
   "source": [
    "def descuento2(amount):\n",
    "  if amount>250:\n",
    "    return 0.0275\n",
    "  else:\n",
    "    return 0\n",
    "\n",
    "filas = len(year)\n",
    "for i in range(0,filas):\n",
    "  if year.iloc[i,10] == 0:\n",
    "    year['Discount'] = year['Amount']*year['Amount'].apply(descuento2)\n",
    "\n",
    "print(year.sample(5))"
   ]
  },
  {
   "cell_type": "code",
   "execution_count": 14,
   "metadata": {},
   "outputs": [
    {
     "name": "stdout",
     "output_type": "stream",
     "text": [
      "    Discount  Amount Order Date Ship Country       Ship City  \\\n",
      "0      0.000     9.8 2014-08-04       France           Reims   \n",
      "1      0.000   174.0 2014-08-04       France           Reims   \n",
      "2      0.000   168.0 2014-08-04       France           Reims   \n",
      "3      0.000   167.4 2014-08-05      Germany         Münster   \n",
      "4     46.640  1696.0 2014-08-05      Germany         Münster   \n",
      "5      6.930   252.0 2014-08-08       Brazil  Rio de Janeiro   \n",
      "6      0.000    77.0 2014-08-08       Brazil  Rio de Janeiro   \n",
      "7     40.810  1484.0 2014-08-08       Brazil  Rio de Janeiro   \n",
      "8      9.240   336.0 2014-08-08       France            Lyon   \n",
      "9      0.000   100.8 2014-08-08       France            Lyon   \n",
      "10     0.000   234.0 2014-08-08       France            Lyon   \n",
      "11    71.280  2592.0 2014-08-09      Belgium       Charleroi   \n",
      "12     0.000    50.0 2014-08-09      Belgium       Charleroi   \n",
      "13    29.920  1088.0 2014-08-09      Belgium       Charleroi   \n",
      "14    17.600   640.0 2014-08-10       Brazil  Rio de Janeiro   \n",
      "15    16.632   604.8 2014-08-10       Brazil  Rio de Janeiro   \n",
      "16     0.000   200.0 2014-08-10       Brazil  Rio de Janeiro   \n",
      "17    11.088   403.2 2014-08-11  Switzerland            Bern   \n",
      "18     0.000   168.0 2014-08-11  Switzerland            Bern   \n",
      "19     0.000    54.0 2014-08-11  Switzerland            Bern   \n",
      "\n",
      "                     Customer  Quantity  Unit Price        Category  \\\n",
      "0   Vins et alcools Chevalier         1         9.8  Grains/Cereals   \n",
      "1   Vins et alcools Chevalier         5        34.8  Dairy Products   \n",
      "2   Vins et alcools Chevalier        12        14.0  Dairy Products   \n",
      "3          Toms Spezialitäten         9        18.6         Produce   \n",
      "4          Toms Spezialitäten        40        42.4         Produce   \n",
      "5               Hanari Carnes        15        16.8      Condiments   \n",
      "6               Hanari Carnes        10         7.7         Seafood   \n",
      "7               Hanari Carnes        35        42.4         Produce   \n",
      "8        Victuailles en stock        20        16.8      Condiments   \n",
      "9        Victuailles en stock         6        16.8  Grains/Cereals   \n",
      "10       Victuailles en stock        15        15.6  Grains/Cereals   \n",
      "11           Suprêmes délices        40        64.8     Confections   \n",
      "12           Suprêmes délices        25         2.0  Dairy Products   \n",
      "13           Suprêmes délices        40        27.2  Dairy Products   \n",
      "14              Hanari Carnes        40        16.0     Confections   \n",
      "15              Hanari Carnes        42        14.4       Beverages   \n",
      "16              Hanari Carnes        20        10.0  Dairy Products   \n",
      "17          Chop-suey Chinese        21        19.2    Meat/Poultry   \n",
      "18          Chop-suey Chinese        21         8.0         Produce   \n",
      "19          Chop-suey Chinese        15         3.6       Beverages   \n",
      "\n",
      "                             Product  Order ID  \n",
      "0      Singaporean Hokkien Fried Mee     10248  \n",
      "1             Mozzarella di Giovanni     10248  \n",
      "2                     Queso Cabrales     10248  \n",
      "3                               Tofu     10249  \n",
      "4              Manjimup Dried Apples     10249  \n",
      "5   Louisiana Fiery Hot Pepper Sauce     10250  \n",
      "6    Jack's New England Clam Chowder     10250  \n",
      "7              Manjimup Dried Apples     10250  \n",
      "8   Louisiana Fiery Hot Pepper Sauce     10251  \n",
      "9                Gustaf's Knäckebröd     10251  \n",
      "10                    Ravioli Angelo     10251  \n",
      "11            Sir Rodney's Marmalade     10252  \n",
      "12                           Geitost     10252  \n",
      "13                 Camembert Pierrot     10252  \n",
      "14                          Maxilaku     10253  \n",
      "15                  Chartreuse verte     10253  \n",
      "16                 Gorgonzola Telino     10253  \n",
      "17                      Pâté chinois     10254  \n",
      "18                     Longlife Tofu     10254  \n",
      "19                Guaraná Fantástica     10254  \n"
     ]
    }
   ],
   "source": [
    "year = year.reindex(columns=year.columns[::-1])\n",
    "print(year.head(20))"
   ]
  },
  {
   "cell_type": "code",
   "execution_count": null,
   "metadata": {},
   "outputs": [],
   "source": []
  }
 ],
 "metadata": {
  "kernelspec": {
   "display_name": "Python 3.12.4 64-bit",
   "language": "python",
   "name": "python3"
  },
  "language_info": {
   "codemirror_mode": {
    "name": "ipython",
    "version": 3
   },
   "file_extension": ".py",
   "mimetype": "text/x-python",
   "name": "python",
   "nbconvert_exporter": "python",
   "pygments_lexer": "ipython3",
   "version": "3.12.4"
  },
  "orig_nbformat": 4,
  "vscode": {
   "interpreter": {
    "hash": "aee8b7b246df8f9039afb4144a1f6fd8d2ca17a180786b69acc140d282b71a49"
   }
  }
 },
 "nbformat": 4,
 "nbformat_minor": 2
}
